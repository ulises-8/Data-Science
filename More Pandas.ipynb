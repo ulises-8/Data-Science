{
  "nbformat": 4,
  "nbformat_minor": 0,
  "metadata": {
    "colab": {
      "name": "Copy of pandas_lab_1.ipynb",
      "provenance": [],
      "collapsed_sections": []
    },
    "kernelspec": {
      "name": "python3",
      "display_name": "Python 3"
    }
  },
  "cells": [
    {
      "cell_type": "code",
      "metadata": {
        "id": "FBu6sYp-fkUj"
      },
      "source": [
        "# 0. Run this code to import the libraries we will need. \n",
        "import pandas as pd\n",
        "import numpy as np\n",
        "import matplotlib.pyplot as plt\n",
        "import seaborn as sns\n",
        "import os\n",
        "import geopy\n",
        "import io\n"
      ],
      "execution_count": null,
      "outputs": []
    },
    {
      "cell_type": "markdown",
      "metadata": {
        "id": "FB09r0v7eiGG"
      },
      "source": [
        "# CS 48A Pandas Lab\n",
        "## by Joanna Lankester, PhD\n",
        "\n",
        "#### Directions: \n",
        "- Work through the exercises. Blocks with a * require an answer (either *Code, *Response which you can leave in the comments, or both). \n",
        "- Be sure to generally run cells from the top to the bottom of the notebook, because some code will be dependent on earlier code.\n",
        "- When you have all your code how you want it, re-run everything from the top sequentially before turning it in. You can use the \"Run all\" option from the menus, if you want.   \n",
        "- Turn in the .ipynb file. If you are working in Google Colaboratory, go to File - Download .ipynb to get the file. "
      ]
    },
    {
      "cell_type": "markdown",
      "metadata": {
        "id": "KpcL9sJWhvsP"
      },
      "source": [
        "# Part 1a\n",
        "\n",
        "In this section, we will review: \n",
        "- selecting columns\n",
        "- filtering rows by characteristic\n",
        "- creating a new variable\n",
        "- creating a boxplot, line plot, and heat map in seaborn\n",
        "\n",
        "And we will learn something new about: \n",
        "- syntax for converting from wide to long format\n",
        "- dropping columns\n",
        "- combining multiple commands on a DataFrame\n",
        "- what a pandas Index is\n",
        "- how to set a DataFrame index"
      ]
    },
    {
      "cell_type": "markdown",
      "metadata": {
        "id": "vqs-aLdXG4NQ"
      },
      "source": [
        "Be sure that you have downloaded ice_cream_by_shop.csv before starting. "
      ]
    },
    {
      "cell_type": "code",
      "metadata": {
        "id": "Ij425HkZh3B1",
        "colab": {
          "resources": {
            "http://localhost:8080/nbextensions/google.colab/files.js": {
              "data": "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",
              "ok": true,
              "headers": [
                [
                  "content-type",
                  "application/javascript"
                ]
              ],
              "status": 200,
              "status_text": ""
            }
          },
          "base_uri": "https://localhost:8080/",
          "height": 90
        },
        "outputId": "d6ccc4b2-6533-4a89-8443-8b7af81a2221"
      },
      "source": [
        "# 1. Run this cell, click \"Choose Files\", and upload the ice_cream_by_shop.csv file from your computer\n",
        "from google.colab import files\n",
        "\n",
        "uploaded = files.upload()\n",
        "\n",
        "for fn in uploaded.keys():\n",
        "  print('User uploaded file \"{name}\" with length {length} bytes'.format(\n",
        "      name=fn, length=len(uploaded[fn])))\n",
        "  \n",
        "\n",
        "# Note: this functionality works only for Google Colab in Chrome. \n",
        "# To run locally using Anaconda, use this instead of #1-2:\n",
        "# ic_wide = pd.read_csv('filepath/ice_cream_by_shop.csv') \n",
        "# ...substituting the filepath with the location of this file on your computer. "
      ],
      "execution_count": null,
      "outputs": [
        {
          "output_type": "display_data",
          "data": {
            "text/html": [
              "\n",
              "     <input type=\"file\" id=\"files-b35b1df3-690f-4928-9f96-682df0d8669c\" name=\"files[]\" multiple disabled\n",
              "        style=\"border:none\" />\n",
              "     <output id=\"result-b35b1df3-690f-4928-9f96-682df0d8669c\">\n",
              "      Upload widget is only available when the cell has been executed in the\n",
              "      current browser session. Please rerun this cell to enable.\n",
              "      </output>\n",
              "      <script src=\"/nbextensions/google.colab/files.js\"></script> "
            ],
            "text/plain": [
              "<IPython.core.display.HTML object>"
            ]
          },
          "metadata": {}
        },
        {
          "output_type": "stream",
          "name": "stdout",
          "text": [
            "Saving ice_cream_by_shop.csv to ice_cream_by_shop (2).csv\n",
            "User uploaded file \"ice_cream_by_shop.csv\" with length 384 bytes\n"
          ]
        }
      ]
    },
    {
      "cell_type": "code",
      "metadata": {
        "id": "fJpEPbmAh3qg",
        "colab": {
          "base_uri": "https://localhost:8080/",
          "height": 235
        },
        "outputId": "b1b825b0-0461-4d69-e1c1-a0fca81480e6"
      },
      "source": [
        "# 2. Run this cell to load the file into a data frame and look at that data frame. \n",
        "# Remember that the last item in a notebook cell will be printed automatically. \n",
        "# Use this functionality to check your work. \n",
        "ic_wide = pd.read_csv(io.StringIO(uploaded['ice_cream_by_shop.csv'].decode('utf-8')))\n",
        "ic_wide"
      ],
      "execution_count": null,
      "outputs": [
        {
          "output_type": "execute_result",
          "data": {
            "text/html": [
              "<div>\n",
              "<style scoped>\n",
              "    .dataframe tbody tr th:only-of-type {\n",
              "        vertical-align: middle;\n",
              "    }\n",
              "\n",
              "    .dataframe tbody tr th {\n",
              "        vertical-align: top;\n",
              "    }\n",
              "\n",
              "    .dataframe thead th {\n",
              "        text-align: right;\n",
              "    }\n",
              "</style>\n",
              "<table border=\"1\" class=\"dataframe\">\n",
              "  <thead>\n",
              "    <tr style=\"text-align: right;\">\n",
              "      <th></th>\n",
              "      <th>ID</th>\n",
              "      <th>address</th>\n",
              "      <th>Monday</th>\n",
              "      <th>Tuesday</th>\n",
              "      <th>Wednesday</th>\n",
              "      <th>Thursday</th>\n",
              "      <th>Friday</th>\n",
              "      <th>Saturday</th>\n",
              "      <th>Sunday</th>\n",
              "    </tr>\n",
              "  </thead>\n",
              "  <tbody>\n",
              "    <tr>\n",
              "      <th>0</th>\n",
              "      <td>3677</td>\n",
              "      <td>201 1st St 94022</td>\n",
              "      <td>42</td>\n",
              "      <td>55</td>\n",
              "      <td>92</td>\n",
              "      <td>45</td>\n",
              "      <td>68</td>\n",
              "      <td>124</td>\n",
              "      <td>132</td>\n",
              "    </tr>\n",
              "    <tr>\n",
              "      <th>1</th>\n",
              "      <td>1492</td>\n",
              "      <td>6421 Brady St 77011</td>\n",
              "      <td>122</td>\n",
              "      <td>113</td>\n",
              "      <td>123</td>\n",
              "      <td>117</td>\n",
              "      <td>115</td>\n",
              "      <td>122</td>\n",
              "      <td>122</td>\n",
              "    </tr>\n",
              "    <tr>\n",
              "      <th>2</th>\n",
              "      <td>5838</td>\n",
              "      <td>9 US-5 S 05045</td>\n",
              "      <td>148</td>\n",
              "      <td>155</td>\n",
              "      <td>143</td>\n",
              "      <td>177</td>\n",
              "      <td>187</td>\n",
              "      <td>203</td>\n",
              "      <td>206</td>\n",
              "    </tr>\n",
              "    <tr>\n",
              "      <th>3</th>\n",
              "      <td>4297</td>\n",
              "      <td>12345 El Monte Rd 94022</td>\n",
              "      <td>88</td>\n",
              "      <td>85</td>\n",
              "      <td>91</td>\n",
              "      <td>90</td>\n",
              "      <td>93</td>\n",
              "      <td>40</td>\n",
              "      <td>38</td>\n",
              "    </tr>\n",
              "    <tr>\n",
              "      <th>4</th>\n",
              "      <td>5336</td>\n",
              "      <td>2450 E Mason St 54302</td>\n",
              "      <td>99</td>\n",
              "      <td>102</td>\n",
              "      <td>105</td>\n",
              "      <td>102</td>\n",
              "      <td>97</td>\n",
              "      <td>135</td>\n",
              "      <td>144</td>\n",
              "    </tr>\n",
              "    <tr>\n",
              "      <th>5</th>\n",
              "      <td>3442</td>\n",
              "      <td>4301 University Way NE 98105</td>\n",
              "      <td>155</td>\n",
              "      <td>159</td>\n",
              "      <td>142</td>\n",
              "      <td>145</td>\n",
              "      <td>146</td>\n",
              "      <td>180</td>\n",
              "      <td>182</td>\n",
              "    </tr>\n",
              "  </tbody>\n",
              "</table>\n",
              "</div>"
            ],
            "text/plain": [
              "     ID                       address  Monday  ...  Friday  Saturday  Sunday\n",
              "0  3677              201 1st St 94022      42  ...      68       124     132\n",
              "1  1492           6421 Brady St 77011     122  ...     115       122     122\n",
              "2  5838                9 US-5 S 05045     148  ...     187       203     206\n",
              "3  4297       12345 El Monte Rd 94022      88  ...      93        40      38\n",
              "4  5336         2450 E Mason St 54302      99  ...      97       135     144\n",
              "5  3442  4301 University Way NE 98105     155  ...     146       180     182\n",
              "\n",
              "[6 rows x 9 columns]"
            ]
          },
          "metadata": {},
          "execution_count": 93
        }
      ]
    },
    {
      "cell_type": "markdown",
      "metadata": {
        "id": "MKBDrnnsHqMD"
      },
      "source": [
        "As we can see, this data set has a list of ice cream shops and their average sales for each day of the week. The shops each have an ID number, and their address is listed. \n",
        "\n",
        "The provided data is in wide format. As you know, most of the time when we use visualization software, we need data in long format. However, there are times when a wide format may work better for certain analyses. In this lab, we'll practice using both. "
      ]
    },
    {
      "cell_type": "markdown",
      "metadata": {
        "id": "mVc37DJzmK9R"
      },
      "source": [
        "## Practice selecting columns"
      ]
    },
    {
      "cell_type": "code",
      "metadata": {
        "id": "AuP3orUjX-W3",
        "colab": {
          "base_uri": "https://localhost:8080/",
          "height": 235
        },
        "outputId": "c027e1d1-6cec-4bdb-999d-663d7aec0a6e"
      },
      "source": [
        "# 3. (*Code)\n",
        "# Create a table of only the ID number, address, Wednesday, and Thursday ice cream\n",
        "# sales from the data. \n",
        "#\n",
        "# Your answer: \n",
        "ic_wide[['ID', 'address', 'Wednesday', 'Thursday']]\n",
        "\n"
      ],
      "execution_count": null,
      "outputs": [
        {
          "output_type": "execute_result",
          "data": {
            "text/html": [
              "<div>\n",
              "<style scoped>\n",
              "    .dataframe tbody tr th:only-of-type {\n",
              "        vertical-align: middle;\n",
              "    }\n",
              "\n",
              "    .dataframe tbody tr th {\n",
              "        vertical-align: top;\n",
              "    }\n",
              "\n",
              "    .dataframe thead th {\n",
              "        text-align: right;\n",
              "    }\n",
              "</style>\n",
              "<table border=\"1\" class=\"dataframe\">\n",
              "  <thead>\n",
              "    <tr style=\"text-align: right;\">\n",
              "      <th></th>\n",
              "      <th>ID</th>\n",
              "      <th>address</th>\n",
              "      <th>Wednesday</th>\n",
              "      <th>Thursday</th>\n",
              "    </tr>\n",
              "  </thead>\n",
              "  <tbody>\n",
              "    <tr>\n",
              "      <th>0</th>\n",
              "      <td>3677</td>\n",
              "      <td>201 1st St 94022</td>\n",
              "      <td>92</td>\n",
              "      <td>45</td>\n",
              "    </tr>\n",
              "    <tr>\n",
              "      <th>1</th>\n",
              "      <td>1492</td>\n",
              "      <td>6421 Brady St 77011</td>\n",
              "      <td>123</td>\n",
              "      <td>117</td>\n",
              "    </tr>\n",
              "    <tr>\n",
              "      <th>2</th>\n",
              "      <td>5838</td>\n",
              "      <td>9 US-5 S 05045</td>\n",
              "      <td>143</td>\n",
              "      <td>177</td>\n",
              "    </tr>\n",
              "    <tr>\n",
              "      <th>3</th>\n",
              "      <td>4297</td>\n",
              "      <td>12345 El Monte Rd 94022</td>\n",
              "      <td>91</td>\n",
              "      <td>90</td>\n",
              "    </tr>\n",
              "    <tr>\n",
              "      <th>4</th>\n",
              "      <td>5336</td>\n",
              "      <td>2450 E Mason St 54302</td>\n",
              "      <td>105</td>\n",
              "      <td>102</td>\n",
              "    </tr>\n",
              "    <tr>\n",
              "      <th>5</th>\n",
              "      <td>3442</td>\n",
              "      <td>4301 University Way NE 98105</td>\n",
              "      <td>142</td>\n",
              "      <td>145</td>\n",
              "    </tr>\n",
              "  </tbody>\n",
              "</table>\n",
              "</div>"
            ],
            "text/plain": [
              "     ID                       address  Wednesday  Thursday\n",
              "0  3677              201 1st St 94022         92        45\n",
              "1  1492           6421 Brady St 77011        123       117\n",
              "2  5838                9 US-5 S 05045        143       177\n",
              "3  4297       12345 El Monte Rd 94022         91        90\n",
              "4  5336         2450 E Mason St 54302        105       102\n",
              "5  3442  4301 University Way NE 98105        142       145"
            ]
          },
          "metadata": {},
          "execution_count": 94
        }
      ]
    },
    {
      "cell_type": "markdown",
      "metadata": {
        "id": "MP45UV3pNYCj"
      },
      "source": [
        "## Converting to long format and viewing distributions"
      ]
    },
    {
      "cell_type": "code",
      "metadata": {
        "id": "b064ngfyL8VS"
      },
      "source": [
        "# 4. (*Response) \n",
        "# Suppose I convert this to long format, where every row will have an \n",
        "# ID, address, day of the week, and value sold on that day. How many rows do you\n",
        "# expect, and why? \n",
        "\n",
        "# Your answer: \n",
        "# We get 42 rows, because of each day of the week. \n",
        "# Initially there were 6 rows. So if we multiply that by 7, the number of days\n",
        "# in a week, we get 42.\n",
        "# "
      ],
      "execution_count": null,
      "outputs": []
    },
    {
      "cell_type": "code",
      "metadata": {
        "id": "zHr-08LJK_VW",
        "colab": {
          "base_uri": "https://localhost:8080/",
          "height": 1000
        },
        "outputId": "5055523b-faab-4928-ff4a-26d02df236bd"
      },
      "source": [
        "# 5. Run this code to convert the dataset to long format\n",
        "ic_long = ic_wide.melt(id_vars=['ID','address'],value_name='count',var_name='day')\n",
        "ic_long"
      ],
      "execution_count": null,
      "outputs": [
        {
          "output_type": "execute_result",
          "data": {
            "text/html": [
              "<div>\n",
              "<style scoped>\n",
              "    .dataframe tbody tr th:only-of-type {\n",
              "        vertical-align: middle;\n",
              "    }\n",
              "\n",
              "    .dataframe tbody tr th {\n",
              "        vertical-align: top;\n",
              "    }\n",
              "\n",
              "    .dataframe thead th {\n",
              "        text-align: right;\n",
              "    }\n",
              "</style>\n",
              "<table border=\"1\" class=\"dataframe\">\n",
              "  <thead>\n",
              "    <tr style=\"text-align: right;\">\n",
              "      <th></th>\n",
              "      <th>ID</th>\n",
              "      <th>address</th>\n",
              "      <th>day</th>\n",
              "      <th>count</th>\n",
              "    </tr>\n",
              "  </thead>\n",
              "  <tbody>\n",
              "    <tr>\n",
              "      <th>0</th>\n",
              "      <td>3677</td>\n",
              "      <td>201 1st St 94022</td>\n",
              "      <td>Monday</td>\n",
              "      <td>42</td>\n",
              "    </tr>\n",
              "    <tr>\n",
              "      <th>1</th>\n",
              "      <td>1492</td>\n",
              "      <td>6421 Brady St 77011</td>\n",
              "      <td>Monday</td>\n",
              "      <td>122</td>\n",
              "    </tr>\n",
              "    <tr>\n",
              "      <th>2</th>\n",
              "      <td>5838</td>\n",
              "      <td>9 US-5 S 05045</td>\n",
              "      <td>Monday</td>\n",
              "      <td>148</td>\n",
              "    </tr>\n",
              "    <tr>\n",
              "      <th>3</th>\n",
              "      <td>4297</td>\n",
              "      <td>12345 El Monte Rd 94022</td>\n",
              "      <td>Monday</td>\n",
              "      <td>88</td>\n",
              "    </tr>\n",
              "    <tr>\n",
              "      <th>4</th>\n",
              "      <td>5336</td>\n",
              "      <td>2450 E Mason St 54302</td>\n",
              "      <td>Monday</td>\n",
              "      <td>99</td>\n",
              "    </tr>\n",
              "    <tr>\n",
              "      <th>5</th>\n",
              "      <td>3442</td>\n",
              "      <td>4301 University Way NE 98105</td>\n",
              "      <td>Monday</td>\n",
              "      <td>155</td>\n",
              "    </tr>\n",
              "    <tr>\n",
              "      <th>6</th>\n",
              "      <td>3677</td>\n",
              "      <td>201 1st St 94022</td>\n",
              "      <td>Tuesday</td>\n",
              "      <td>55</td>\n",
              "    </tr>\n",
              "    <tr>\n",
              "      <th>7</th>\n",
              "      <td>1492</td>\n",
              "      <td>6421 Brady St 77011</td>\n",
              "      <td>Tuesday</td>\n",
              "      <td>113</td>\n",
              "    </tr>\n",
              "    <tr>\n",
              "      <th>8</th>\n",
              "      <td>5838</td>\n",
              "      <td>9 US-5 S 05045</td>\n",
              "      <td>Tuesday</td>\n",
              "      <td>155</td>\n",
              "    </tr>\n",
              "    <tr>\n",
              "      <th>9</th>\n",
              "      <td>4297</td>\n",
              "      <td>12345 El Monte Rd 94022</td>\n",
              "      <td>Tuesday</td>\n",
              "      <td>85</td>\n",
              "    </tr>\n",
              "    <tr>\n",
              "      <th>10</th>\n",
              "      <td>5336</td>\n",
              "      <td>2450 E Mason St 54302</td>\n",
              "      <td>Tuesday</td>\n",
              "      <td>102</td>\n",
              "    </tr>\n",
              "    <tr>\n",
              "      <th>11</th>\n",
              "      <td>3442</td>\n",
              "      <td>4301 University Way NE 98105</td>\n",
              "      <td>Tuesday</td>\n",
              "      <td>159</td>\n",
              "    </tr>\n",
              "    <tr>\n",
              "      <th>12</th>\n",
              "      <td>3677</td>\n",
              "      <td>201 1st St 94022</td>\n",
              "      <td>Wednesday</td>\n",
              "      <td>92</td>\n",
              "    </tr>\n",
              "    <tr>\n",
              "      <th>13</th>\n",
              "      <td>1492</td>\n",
              "      <td>6421 Brady St 77011</td>\n",
              "      <td>Wednesday</td>\n",
              "      <td>123</td>\n",
              "    </tr>\n",
              "    <tr>\n",
              "      <th>14</th>\n",
              "      <td>5838</td>\n",
              "      <td>9 US-5 S 05045</td>\n",
              "      <td>Wednesday</td>\n",
              "      <td>143</td>\n",
              "    </tr>\n",
              "    <tr>\n",
              "      <th>15</th>\n",
              "      <td>4297</td>\n",
              "      <td>12345 El Monte Rd 94022</td>\n",
              "      <td>Wednesday</td>\n",
              "      <td>91</td>\n",
              "    </tr>\n",
              "    <tr>\n",
              "      <th>16</th>\n",
              "      <td>5336</td>\n",
              "      <td>2450 E Mason St 54302</td>\n",
              "      <td>Wednesday</td>\n",
              "      <td>105</td>\n",
              "    </tr>\n",
              "    <tr>\n",
              "      <th>17</th>\n",
              "      <td>3442</td>\n",
              "      <td>4301 University Way NE 98105</td>\n",
              "      <td>Wednesday</td>\n",
              "      <td>142</td>\n",
              "    </tr>\n",
              "    <tr>\n",
              "      <th>18</th>\n",
              "      <td>3677</td>\n",
              "      <td>201 1st St 94022</td>\n",
              "      <td>Thursday</td>\n",
              "      <td>45</td>\n",
              "    </tr>\n",
              "    <tr>\n",
              "      <th>19</th>\n",
              "      <td>1492</td>\n",
              "      <td>6421 Brady St 77011</td>\n",
              "      <td>Thursday</td>\n",
              "      <td>117</td>\n",
              "    </tr>\n",
              "    <tr>\n",
              "      <th>20</th>\n",
              "      <td>5838</td>\n",
              "      <td>9 US-5 S 05045</td>\n",
              "      <td>Thursday</td>\n",
              "      <td>177</td>\n",
              "    </tr>\n",
              "    <tr>\n",
              "      <th>21</th>\n",
              "      <td>4297</td>\n",
              "      <td>12345 El Monte Rd 94022</td>\n",
              "      <td>Thursday</td>\n",
              "      <td>90</td>\n",
              "    </tr>\n",
              "    <tr>\n",
              "      <th>22</th>\n",
              "      <td>5336</td>\n",
              "      <td>2450 E Mason St 54302</td>\n",
              "      <td>Thursday</td>\n",
              "      <td>102</td>\n",
              "    </tr>\n",
              "    <tr>\n",
              "      <th>23</th>\n",
              "      <td>3442</td>\n",
              "      <td>4301 University Way NE 98105</td>\n",
              "      <td>Thursday</td>\n",
              "      <td>145</td>\n",
              "    </tr>\n",
              "    <tr>\n",
              "      <th>24</th>\n",
              "      <td>3677</td>\n",
              "      <td>201 1st St 94022</td>\n",
              "      <td>Friday</td>\n",
              "      <td>68</td>\n",
              "    </tr>\n",
              "    <tr>\n",
              "      <th>25</th>\n",
              "      <td>1492</td>\n",
              "      <td>6421 Brady St 77011</td>\n",
              "      <td>Friday</td>\n",
              "      <td>115</td>\n",
              "    </tr>\n",
              "    <tr>\n",
              "      <th>26</th>\n",
              "      <td>5838</td>\n",
              "      <td>9 US-5 S 05045</td>\n",
              "      <td>Friday</td>\n",
              "      <td>187</td>\n",
              "    </tr>\n",
              "    <tr>\n",
              "      <th>27</th>\n",
              "      <td>4297</td>\n",
              "      <td>12345 El Monte Rd 94022</td>\n",
              "      <td>Friday</td>\n",
              "      <td>93</td>\n",
              "    </tr>\n",
              "    <tr>\n",
              "      <th>28</th>\n",
              "      <td>5336</td>\n",
              "      <td>2450 E Mason St 54302</td>\n",
              "      <td>Friday</td>\n",
              "      <td>97</td>\n",
              "    </tr>\n",
              "    <tr>\n",
              "      <th>29</th>\n",
              "      <td>3442</td>\n",
              "      <td>4301 University Way NE 98105</td>\n",
              "      <td>Friday</td>\n",
              "      <td>146</td>\n",
              "    </tr>\n",
              "    <tr>\n",
              "      <th>30</th>\n",
              "      <td>3677</td>\n",
              "      <td>201 1st St 94022</td>\n",
              "      <td>Saturday</td>\n",
              "      <td>124</td>\n",
              "    </tr>\n",
              "    <tr>\n",
              "      <th>31</th>\n",
              "      <td>1492</td>\n",
              "      <td>6421 Brady St 77011</td>\n",
              "      <td>Saturday</td>\n",
              "      <td>122</td>\n",
              "    </tr>\n",
              "    <tr>\n",
              "      <th>32</th>\n",
              "      <td>5838</td>\n",
              "      <td>9 US-5 S 05045</td>\n",
              "      <td>Saturday</td>\n",
              "      <td>203</td>\n",
              "    </tr>\n",
              "    <tr>\n",
              "      <th>33</th>\n",
              "      <td>4297</td>\n",
              "      <td>12345 El Monte Rd 94022</td>\n",
              "      <td>Saturday</td>\n",
              "      <td>40</td>\n",
              "    </tr>\n",
              "    <tr>\n",
              "      <th>34</th>\n",
              "      <td>5336</td>\n",
              "      <td>2450 E Mason St 54302</td>\n",
              "      <td>Saturday</td>\n",
              "      <td>135</td>\n",
              "    </tr>\n",
              "    <tr>\n",
              "      <th>35</th>\n",
              "      <td>3442</td>\n",
              "      <td>4301 University Way NE 98105</td>\n",
              "      <td>Saturday</td>\n",
              "      <td>180</td>\n",
              "    </tr>\n",
              "    <tr>\n",
              "      <th>36</th>\n",
              "      <td>3677</td>\n",
              "      <td>201 1st St 94022</td>\n",
              "      <td>Sunday</td>\n",
              "      <td>132</td>\n",
              "    </tr>\n",
              "    <tr>\n",
              "      <th>37</th>\n",
              "      <td>1492</td>\n",
              "      <td>6421 Brady St 77011</td>\n",
              "      <td>Sunday</td>\n",
              "      <td>122</td>\n",
              "    </tr>\n",
              "    <tr>\n",
              "      <th>38</th>\n",
              "      <td>5838</td>\n",
              "      <td>9 US-5 S 05045</td>\n",
              "      <td>Sunday</td>\n",
              "      <td>206</td>\n",
              "    </tr>\n",
              "    <tr>\n",
              "      <th>39</th>\n",
              "      <td>4297</td>\n",
              "      <td>12345 El Monte Rd 94022</td>\n",
              "      <td>Sunday</td>\n",
              "      <td>38</td>\n",
              "    </tr>\n",
              "    <tr>\n",
              "      <th>40</th>\n",
              "      <td>5336</td>\n",
              "      <td>2450 E Mason St 54302</td>\n",
              "      <td>Sunday</td>\n",
              "      <td>144</td>\n",
              "    </tr>\n",
              "    <tr>\n",
              "      <th>41</th>\n",
              "      <td>3442</td>\n",
              "      <td>4301 University Way NE 98105</td>\n",
              "      <td>Sunday</td>\n",
              "      <td>182</td>\n",
              "    </tr>\n",
              "  </tbody>\n",
              "</table>\n",
              "</div>"
            ],
            "text/plain": [
              "      ID                       address        day  count\n",
              "0   3677              201 1st St 94022     Monday     42\n",
              "1   1492           6421 Brady St 77011     Monday    122\n",
              "2   5838                9 US-5 S 05045     Monday    148\n",
              "3   4297       12345 El Monte Rd 94022     Monday     88\n",
              "4   5336         2450 E Mason St 54302     Monday     99\n",
              "5   3442  4301 University Way NE 98105     Monday    155\n",
              "6   3677              201 1st St 94022    Tuesday     55\n",
              "7   1492           6421 Brady St 77011    Tuesday    113\n",
              "8   5838                9 US-5 S 05045    Tuesday    155\n",
              "9   4297       12345 El Monte Rd 94022    Tuesday     85\n",
              "10  5336         2450 E Mason St 54302    Tuesday    102\n",
              "11  3442  4301 University Way NE 98105    Tuesday    159\n",
              "12  3677              201 1st St 94022  Wednesday     92\n",
              "13  1492           6421 Brady St 77011  Wednesday    123\n",
              "14  5838                9 US-5 S 05045  Wednesday    143\n",
              "15  4297       12345 El Monte Rd 94022  Wednesday     91\n",
              "16  5336         2450 E Mason St 54302  Wednesday    105\n",
              "17  3442  4301 University Way NE 98105  Wednesday    142\n",
              "18  3677              201 1st St 94022   Thursday     45\n",
              "19  1492           6421 Brady St 77011   Thursday    117\n",
              "20  5838                9 US-5 S 05045   Thursday    177\n",
              "21  4297       12345 El Monte Rd 94022   Thursday     90\n",
              "22  5336         2450 E Mason St 54302   Thursday    102\n",
              "23  3442  4301 University Way NE 98105   Thursday    145\n",
              "24  3677              201 1st St 94022     Friday     68\n",
              "25  1492           6421 Brady St 77011     Friday    115\n",
              "26  5838                9 US-5 S 05045     Friday    187\n",
              "27  4297       12345 El Monte Rd 94022     Friday     93\n",
              "28  5336         2450 E Mason St 54302     Friday     97\n",
              "29  3442  4301 University Way NE 98105     Friday    146\n",
              "30  3677              201 1st St 94022   Saturday    124\n",
              "31  1492           6421 Brady St 77011   Saturday    122\n",
              "32  5838                9 US-5 S 05045   Saturday    203\n",
              "33  4297       12345 El Monte Rd 94022   Saturday     40\n",
              "34  5336         2450 E Mason St 54302   Saturday    135\n",
              "35  3442  4301 University Way NE 98105   Saturday    180\n",
              "36  3677              201 1st St 94022     Sunday    132\n",
              "37  1492           6421 Brady St 77011     Sunday    122\n",
              "38  5838                9 US-5 S 05045     Sunday    206\n",
              "39  4297       12345 El Monte Rd 94022     Sunday     38\n",
              "40  5336         2450 E Mason St 54302     Sunday    144\n",
              "41  3442  4301 University Way NE 98105     Sunday    182"
            ]
          },
          "metadata": {},
          "execution_count": 96
        }
      ]
    },
    {
      "cell_type": "code",
      "metadata": {
        "id": "SSKQuFjJMU05",
        "colab": {
          "base_uri": "https://localhost:8080/",
          "height": 327
        },
        "outputId": "b14dea3f-7617-4026-c953-074ec2ec037f"
      },
      "source": [
        "# 6. (*Code)\n",
        "# Create a boxplot for the count of ice creams purchased by day of the week using \n",
        "# the long data frame. Choose whether to make the plot horizontal or vertical \n",
        "# depending on how it is easiest to view the labels. \n",
        "# Here's some starter code: \n",
        "\n",
        "ax = sns.boxplot(data=ic_long, x=\"count\", y=\"day\")\n",
        "ax.set_xlabel(\"count\")\n",
        "ax.set_ylabel(\"day\")\n",
        "ax.set_title(\"Number of Ice Creams Sold \\n by Day of the Week, UM\")\n"
      ],
      "execution_count": null,
      "outputs": [
        {
          "output_type": "execute_result",
          "data": {
            "text/plain": [
              "Text(0.5, 1.0, 'Number of Ice Creams Sold \\n by Day of the Week, UM')"
            ]
          },
          "metadata": {},
          "execution_count": 97
        },
        {
          "output_type": "display_data",
          "data": {
            "image/png": "[encoded data removed]",
            "text/plain": [
              "<Figure size 432x288 with 1 Axes>"
            ]
          },
          "metadata": {
            "needs_background": "light"
          }
        }
      ]
    },
    {
      "cell_type": "code",
      "metadata": {
        "id": "cNaEc9OFU-TK",
        "colab": {
          "base_uri": "https://localhost:8080/",
          "height": 312
        },
        "outputId": "7ac69cfb-378b-44c9-deac-1c0d0ec8b633"
      },
      "source": [
        "# 7. (*Code)\n",
        "# Using the ic_long dataframe, create a time-series plot that shows the amount\n",
        "# of ice cream sold each day of the week. Encode each individual shop using color.\n",
        "# Here's some starter code: \n",
        "\n",
        "ax = sns.lineplot(x=\"day\", y=\"count\", hue=\"ID\", data=ic_long)\n",
        "ax.set_xlabel(\"day\")\n",
        "ax.set_ylabel(\"count\")\n",
        "ax.set_title(\"Amount of Ice Cream Sold each Day of the Week, UM\")\n",
        "\n",
        "\n"
      ],
      "execution_count": null,
      "outputs": [
        {
          "output_type": "execute_result",
          "data": {
            "text/plain": [
              "Text(0.5, 1.0, 'Amount of Ice Cream Sold each Day of the Week, UM')"
            ]
          },
          "metadata": {},
          "execution_count": 98
        },
        {
          "output_type": "display_data",
          "data": {
            "image/png": "[encoded data removed]",
            "text/plain": [
              "<Figure size 432x288 with 1 Axes>"
            ]
          },
          "metadata": {
            "needs_background": "light"
          }
        }
      ]
    },
    {
      "cell_type": "code",
      "metadata": {
        "id": "V5VlSFp4cAtW",
        "colab": {
          "base_uri": "https://localhost:8080/",
          "height": 312
        },
        "outputId": "8e7ef82d-a82e-46f4-9186-651d125ee266"
      },
      "source": [
        "# 8. (*Code)\n",
        "# The above plot is a little hard to read. \n",
        "# Copy and paste your code from above, and modify it with all 3 of these changes. \n",
        "# You only need to display your plot once with all of these changes, but I recommend\n",
        "# working on one of them at a time.\n",
        "\n",
        "# (a) change the colors to something more distinguishable, yet easy to see\n",
        "# for someone with colorblindness. \n",
        "# Hint: use the keyword palette=\n",
        "# Hint: See this official documentation for some pre-made palette options: \n",
        "# https://seaborn.pydata.org/tutorial/color_palettes.html\n",
        "\n",
        "# (b) Use the linewidth keyword to make the lines thicker.\n",
        "\n",
        "# (c) Put the following line at the end of your code in this cell: \n",
        "# ax.legend(bbox_to_anchor=(1,1))\n",
        "# Here is a link about legend position options, if you are curious: \n",
        "# https://www.delftstack.com/howto/matplotlib/how-to-place-legend-outside-of-the-plot-in-matplotlib/\n",
        "\n",
        "# Your answer: \n",
        "\n",
        "ax = sns.lineplot(data=ic_long, x=\"day\", y=\"count\", hue=\"ID\", palette='colorblind', linewidth=5)\n",
        "ax.set_xlabel(\"day\")\n",
        "ax.set_ylabel(\"count\")\n",
        "ax.set_title(\"Amount of Ice Cream Sold each Day of the Week, UM\")\n",
        "ax.legend(bbox_to_anchor=(1,1), title='shops')\n"
      ],
      "execution_count": null,
      "outputs": [
        {
          "output_type": "execute_result",
          "data": {
            "text/plain": [
              "<matplotlib.legend.Legend at 0x7faf3b9a6450>"
            ]
          },
          "metadata": {},
          "execution_count": 99
        },
        {
          "output_type": "display_data",
          "data": {
            "image/png": "[encoded data removed]",
            "text/plain": [
              "<Figure size 432x288 with 1 Axes>"
            ]
          },
          "metadata": {
            "needs_background": "light"
          }
        }
      ]
    },
    {
      "cell_type": "markdown",
      "metadata": {
        "id": "y-GFVzH1NfC7"
      },
      "source": [
        "## Using wide data to plot a heat map, and explore dropping columns and setting index"
      ]
    },
    {
      "cell_type": "code",
      "metadata": {
        "id": "G8q-ePmm6ZoW"
      },
      "source": [
        "# 9. *(Response)\n",
        "# Suppose we want to plot a heat map of ice cream sales for these stores.\n",
        "# Uncomment and try this line of code: \n",
        "# sns.heatmap(data=ic_wide) \n",
        "\n",
        "# Why doesn't it work? What type of data is the heatmap function expecting? \n",
        "# Your answer: It is expecting numbers (only the values of the days of the week).\n",
        "# The address column is making it crash.\n",
        " \n",
        "\n",
        "\n",
        "\n",
        "# (To remove this error after answering, re-comment that\n",
        "# line of code and re-run this cell.)"
      ],
      "execution_count": null,
      "outputs": []
    },
    {
      "cell_type": "code",
      "metadata": {
        "id": "9WTSiJMyImJB",
        "colab": {
          "base_uri": "https://localhost:8080/",
          "height": 235
        },
        "outputId": "40beab0e-0d37-4b84-ce59-c0d174ba88e0"
      },
      "source": [
        "# 10. Here's a solution: drop the address column temporarily. Run this to see the result. \n",
        "ic_wide.drop(columns='address') "
      ],
      "execution_count": null,
      "outputs": [
        {
          "output_type": "execute_result",
          "data": {
            "text/html": [
              "<div>\n",
              "<style scoped>\n",
              "    .dataframe tbody tr th:only-of-type {\n",
              "        vertical-align: middle;\n",
              "    }\n",
              "\n",
              "    .dataframe tbody tr th {\n",
              "        vertical-align: top;\n",
              "    }\n",
              "\n",
              "    .dataframe thead th {\n",
              "        text-align: right;\n",
              "    }\n",
              "</style>\n",
              "<table border=\"1\" class=\"dataframe\">\n",
              "  <thead>\n",
              "    <tr style=\"text-align: right;\">\n",
              "      <th></th>\n",
              "      <th>ID</th>\n",
              "      <th>Monday</th>\n",
              "      <th>Tuesday</th>\n",
              "      <th>Wednesday</th>\n",
              "      <th>Thursday</th>\n",
              "      <th>Friday</th>\n",
              "      <th>Saturday</th>\n",
              "      <th>Sunday</th>\n",
              "    </tr>\n",
              "  </thead>\n",
              "  <tbody>\n",
              "    <tr>\n",
              "      <th>0</th>\n",
              "      <td>3677</td>\n",
              "      <td>42</td>\n",
              "      <td>55</td>\n",
              "      <td>92</td>\n",
              "      <td>45</td>\n",
              "      <td>68</td>\n",
              "      <td>124</td>\n",
              "      <td>132</td>\n",
              "    </tr>\n",
              "    <tr>\n",
              "      <th>1</th>\n",
              "      <td>1492</td>\n",
              "      <td>122</td>\n",
              "      <td>113</td>\n",
              "      <td>123</td>\n",
              "      <td>117</td>\n",
              "      <td>115</td>\n",
              "      <td>122</td>\n",
              "      <td>122</td>\n",
              "    </tr>\n",
              "    <tr>\n",
              "      <th>2</th>\n",
              "      <td>5838</td>\n",
              "      <td>148</td>\n",
              "      <td>155</td>\n",
              "      <td>143</td>\n",
              "      <td>177</td>\n",
              "      <td>187</td>\n",
              "      <td>203</td>\n",
              "      <td>206</td>\n",
              "    </tr>\n",
              "    <tr>\n",
              "      <th>3</th>\n",
              "      <td>4297</td>\n",
              "      <td>88</td>\n",
              "      <td>85</td>\n",
              "      <td>91</td>\n",
              "      <td>90</td>\n",
              "      <td>93</td>\n",
              "      <td>40</td>\n",
              "      <td>38</td>\n",
              "    </tr>\n",
              "    <tr>\n",
              "      <th>4</th>\n",
              "      <td>5336</td>\n",
              "      <td>99</td>\n",
              "      <td>102</td>\n",
              "      <td>105</td>\n",
              "      <td>102</td>\n",
              "      <td>97</td>\n",
              "      <td>135</td>\n",
              "      <td>144</td>\n",
              "    </tr>\n",
              "    <tr>\n",
              "      <th>5</th>\n",
              "      <td>3442</td>\n",
              "      <td>155</td>\n",
              "      <td>159</td>\n",
              "      <td>142</td>\n",
              "      <td>145</td>\n",
              "      <td>146</td>\n",
              "      <td>180</td>\n",
              "      <td>182</td>\n",
              "    </tr>\n",
              "  </tbody>\n",
              "</table>\n",
              "</div>"
            ],
            "text/plain": [
              "     ID  Monday  Tuesday  Wednesday  Thursday  Friday  Saturday  Sunday\n",
              "0  3677      42       55         92        45      68       124     132\n",
              "1  1492     122      113        123       117     115       122     122\n",
              "2  5838     148      155        143       177     187       203     206\n",
              "3  4297      88       85         91        90      93        40      38\n",
              "4  5336      99      102        105       102      97       135     144\n",
              "5  3442     155      159        142       145     146       180     182"
            ]
          },
          "metadata": {},
          "execution_count": 101
        }
      ]
    },
    {
      "cell_type": "code",
      "metadata": {
        "id": "sw4gCe6CJ2xE",
        "colab": {
          "base_uri": "https://localhost:8080/",
          "height": 235
        },
        "outputId": "aac79fa4-77bb-434e-ad8a-8350b643a687"
      },
      "source": [
        "# 11. The above block did not actually change the ic_wide DataFrame. Instead, \n",
        "# it just printed a copy of a _temporary_ DataFrame that has dropped the column.\n",
        "# Run this to prove it to yourself: \n",
        "ic_wide"
      ],
      "execution_count": null,
      "outputs": [
        {
          "output_type": "execute_result",
          "data": {
            "text/html": [
              "<div>\n",
              "<style scoped>\n",
              "    .dataframe tbody tr th:only-of-type {\n",
              "        vertical-align: middle;\n",
              "    }\n",
              "\n",
              "    .dataframe tbody tr th {\n",
              "        vertical-align: top;\n",
              "    }\n",
              "\n",
              "    .dataframe thead th {\n",
              "        text-align: right;\n",
              "    }\n",
              "</style>\n",
              "<table border=\"1\" class=\"dataframe\">\n",
              "  <thead>\n",
              "    <tr style=\"text-align: right;\">\n",
              "      <th></th>\n",
              "      <th>ID</th>\n",
              "      <th>address</th>\n",
              "      <th>Monday</th>\n",
              "      <th>Tuesday</th>\n",
              "      <th>Wednesday</th>\n",
              "      <th>Thursday</th>\n",
              "      <th>Friday</th>\n",
              "      <th>Saturday</th>\n",
              "      <th>Sunday</th>\n",
              "    </tr>\n",
              "  </thead>\n",
              "  <tbody>\n",
              "    <tr>\n",
              "      <th>0</th>\n",
              "      <td>3677</td>\n",
              "      <td>201 1st St 94022</td>\n",
              "      <td>42</td>\n",
              "      <td>55</td>\n",
              "      <td>92</td>\n",
              "      <td>45</td>\n",
              "      <td>68</td>\n",
              "      <td>124</td>\n",
              "      <td>132</td>\n",
              "    </tr>\n",
              "    <tr>\n",
              "      <th>1</th>\n",
              "      <td>1492</td>\n",
              "      <td>6421 Brady St 77011</td>\n",
              "      <td>122</td>\n",
              "      <td>113</td>\n",
              "      <td>123</td>\n",
              "      <td>117</td>\n",
              "      <td>115</td>\n",
              "      <td>122</td>\n",
              "      <td>122</td>\n",
              "    </tr>\n",
              "    <tr>\n",
              "      <th>2</th>\n",
              "      <td>5838</td>\n",
              "      <td>9 US-5 S 05045</td>\n",
              "      <td>148</td>\n",
              "      <td>155</td>\n",
              "      <td>143</td>\n",
              "      <td>177</td>\n",
              "      <td>187</td>\n",
              "      <td>203</td>\n",
              "      <td>206</td>\n",
              "    </tr>\n",
              "    <tr>\n",
              "      <th>3</th>\n",
              "      <td>4297</td>\n",
              "      <td>12345 El Monte Rd 94022</td>\n",
              "      <td>88</td>\n",
              "      <td>85</td>\n",
              "      <td>91</td>\n",
              "      <td>90</td>\n",
              "      <td>93</td>\n",
              "      <td>40</td>\n",
              "      <td>38</td>\n",
              "    </tr>\n",
              "    <tr>\n",
              "      <th>4</th>\n",
              "      <td>5336</td>\n",
              "      <td>2450 E Mason St 54302</td>\n",
              "      <td>99</td>\n",
              "      <td>102</td>\n",
              "      <td>105</td>\n",
              "      <td>102</td>\n",
              "      <td>97</td>\n",
              "      <td>135</td>\n",
              "      <td>144</td>\n",
              "    </tr>\n",
              "    <tr>\n",
              "      <th>5</th>\n",
              "      <td>3442</td>\n",
              "      <td>4301 University Way NE 98105</td>\n",
              "      <td>155</td>\n",
              "      <td>159</td>\n",
              "      <td>142</td>\n",
              "      <td>145</td>\n",
              "      <td>146</td>\n",
              "      <td>180</td>\n",
              "      <td>182</td>\n",
              "    </tr>\n",
              "  </tbody>\n",
              "</table>\n",
              "</div>"
            ],
            "text/plain": [
              "     ID                       address  Monday  ...  Friday  Saturday  Sunday\n",
              "0  3677              201 1st St 94022      42  ...      68       124     132\n",
              "1  1492           6421 Brady St 77011     122  ...     115       122     122\n",
              "2  5838                9 US-5 S 05045     148  ...     187       203     206\n",
              "3  4297       12345 El Monte Rd 94022      88  ...      93        40      38\n",
              "4  5336         2450 E Mason St 54302      99  ...      97       135     144\n",
              "5  3442  4301 University Way NE 98105     155  ...     146       180     182\n",
              "\n",
              "[6 rows x 9 columns]"
            ]
          },
          "metadata": {},
          "execution_count": 102
        }
      ]
    },
    {
      "cell_type": "code",
      "metadata": {
        "id": "Rw-i6xxiAi6E",
        "colab": {
          "base_uri": "https://localhost:8080/",
          "height": 330
        },
        "outputId": "13a29c35-2b81-4e32-943a-e36c71bbf9a0"
      },
      "source": [
        "# 12. (*Code)\n",
        "# Write the code to create a heatmap (or copy-paste from item 9). \n",
        "# Instead of using data=ic_wide, make data be the line of code from item 10.\n",
        "# We can use this temporary copy of a dataframe instead of saving it as another\n",
        "# dataframe.\n",
        "\n",
        "# Your answer: \n",
        "sns.heatmap(data=ic_wide.drop(columns='address'))\n"
      ],
      "execution_count": null,
      "outputs": [
        {
          "output_type": "execute_result",
          "data": {
            "text/plain": [
              "<matplotlib.axes._subplots.AxesSubplot at 0x7faf3b999790>"
            ]
          },
          "metadata": {},
          "execution_count": 103
        },
        {
          "output_type": "display_data",
          "data": {
            "image/png": "[encoded data removed]",
            "text/plain": [
              "<Figure size 432x288 with 2 Axes>"
            ]
          },
          "metadata": {
            "needs_background": "light"
          }
        }
      ]
    },
    {
      "cell_type": "code",
      "metadata": {
        "id": "KpPYCnhbK1JC"
      },
      "source": [
        "# 13. (*Response)\n",
        "# Uh-oh! Why is this heat map useless? (look carefully at the x-axis and color \n",
        "# scale; compare to the dataframe)\n",
        "# I.e. why are all the blocks on the days of the week the same color? \n",
        "\n",
        "# Your answer: \n",
        "#All the blocks on the days of the week are the same color because the count\n",
        "#of sold ice creams per day is less than 1000.\n",
        "#On the other hand, each ID has a different color block because there are six\n",
        "#different ID's\n"
      ],
      "execution_count": null,
      "outputs": []
    },
    {
      "cell_type": "markdown",
      "metadata": {
        "id": "QeG0lW0YO7rd"
      },
      "source": [
        "We don't want to plot the values of the ID, but rather only the values of the day of the week. Also, we don't want the row numbers on the y-axis, but rather  the ID numbers. An easy way to accomplish both of these is to set the index of the data frame to the ID. \n",
        "\n",
        "Look toward the top at the wide data frame. You will see that the rows are numbered 0-5, and these numbers are in bold. These are the **indexes**, and they appear to be the row numbers. However, an **Index** in pandas is actually a unique identifier for a row. It does not have to be sequential, and it doesn't even have to be a number. "
      ]
    },
    {
      "cell_type": "code",
      "metadata": {
        "id": "C0G4lRmrBXkA",
        "colab": {
          "base_uri": "https://localhost:8080/",
          "height": 266
        },
        "outputId": "b45b79fb-c941-41b9-81ce-dc148bdd38d8"
      },
      "source": [
        "# 14. Run this code and see how this works. \n",
        "# Note that this will not permenantly change the DataFrame. Just like above, it\n",
        "# is going to display a temporary copy. \n",
        "ic_wide.set_index('ID')"
      ],
      "execution_count": null,
      "outputs": [
        {
          "output_type": "execute_result",
          "data": {
            "text/html": [
              "<div>\n",
              "<style scoped>\n",
              "    .dataframe tbody tr th:only-of-type {\n",
              "        vertical-align: middle;\n",
              "    }\n",
              "\n",
              "    .dataframe tbody tr th {\n",
              "        vertical-align: top;\n",
              "    }\n",
              "\n",
              "    .dataframe thead th {\n",
              "        text-align: right;\n",
              "    }\n",
              "</style>\n",
              "<table border=\"1\" class=\"dataframe\">\n",
              "  <thead>\n",
              "    <tr style=\"text-align: right;\">\n",
              "      <th></th>\n",
              "      <th>address</th>\n",
              "      <th>Monday</th>\n",
              "      <th>Tuesday</th>\n",
              "      <th>Wednesday</th>\n",
              "      <th>Thursday</th>\n",
              "      <th>Friday</th>\n",
              "      <th>Saturday</th>\n",
              "      <th>Sunday</th>\n",
              "    </tr>\n",
              "    <tr>\n",
              "      <th>ID</th>\n",
              "      <th></th>\n",
              "      <th></th>\n",
              "      <th></th>\n",
              "      <th></th>\n",
              "      <th></th>\n",
              "      <th></th>\n",
              "      <th></th>\n",
              "      <th></th>\n",
              "    </tr>\n",
              "  </thead>\n",
              "  <tbody>\n",
              "    <tr>\n",
              "      <th>3677</th>\n",
              "      <td>201 1st St 94022</td>\n",
              "      <td>42</td>\n",
              "      <td>55</td>\n",
              "      <td>92</td>\n",
              "      <td>45</td>\n",
              "      <td>68</td>\n",
              "      <td>124</td>\n",
              "      <td>132</td>\n",
              "    </tr>\n",
              "    <tr>\n",
              "      <th>1492</th>\n",
              "      <td>6421 Brady St 77011</td>\n",
              "      <td>122</td>\n",
              "      <td>113</td>\n",
              "      <td>123</td>\n",
              "      <td>117</td>\n",
              "      <td>115</td>\n",
              "      <td>122</td>\n",
              "      <td>122</td>\n",
              "    </tr>\n",
              "    <tr>\n",
              "      <th>5838</th>\n",
              "      <td>9 US-5 S 05045</td>\n",
              "      <td>148</td>\n",
              "      <td>155</td>\n",
              "      <td>143</td>\n",
              "      <td>177</td>\n",
              "      <td>187</td>\n",
              "      <td>203</td>\n",
              "      <td>206</td>\n",
              "    </tr>\n",
              "    <tr>\n",
              "      <th>4297</th>\n",
              "      <td>12345 El Monte Rd 94022</td>\n",
              "      <td>88</td>\n",
              "      <td>85</td>\n",
              "      <td>91</td>\n",
              "      <td>90</td>\n",
              "      <td>93</td>\n",
              "      <td>40</td>\n",
              "      <td>38</td>\n",
              "    </tr>\n",
              "    <tr>\n",
              "      <th>5336</th>\n",
              "      <td>2450 E Mason St 54302</td>\n",
              "      <td>99</td>\n",
              "      <td>102</td>\n",
              "      <td>105</td>\n",
              "      <td>102</td>\n",
              "      <td>97</td>\n",
              "      <td>135</td>\n",
              "      <td>144</td>\n",
              "    </tr>\n",
              "    <tr>\n",
              "      <th>3442</th>\n",
              "      <td>4301 University Way NE 98105</td>\n",
              "      <td>155</td>\n",
              "      <td>159</td>\n",
              "      <td>142</td>\n",
              "      <td>145</td>\n",
              "      <td>146</td>\n",
              "      <td>180</td>\n",
              "      <td>182</td>\n",
              "    </tr>\n",
              "  </tbody>\n",
              "</table>\n",
              "</div>"
            ],
            "text/plain": [
              "                           address  Monday  Tuesday  ...  Friday  Saturday  Sunday\n",
              "ID                                                   ...                          \n",
              "3677              201 1st St 94022      42       55  ...      68       124     132\n",
              "1492           6421 Brady St 77011     122      113  ...     115       122     122\n",
              "5838                9 US-5 S 05045     148      155  ...     187       203     206\n",
              "4297       12345 El Monte Rd 94022      88       85  ...      93        40      38\n",
              "5336         2450 E Mason St 54302      99      102  ...      97       135     144\n",
              "3442  4301 University Way NE 98105     155      159  ...     146       180     182\n",
              "\n",
              "[6 rows x 8 columns]"
            ]
          },
          "metadata": {},
          "execution_count": 105
        }
      ]
    },
    {
      "cell_type": "code",
      "metadata": {
        "id": "Ay4ky5JPB7SW",
        "colab": {
          "base_uri": "https://localhost:8080/",
          "height": 266
        },
        "outputId": "9fc7023d-d91c-4923-b234-4ea9722dabbc"
      },
      "source": [
        "# 15. We can string together these two commands by putting the \".drop\" command \n",
        "# followed by the \".set_index\" command. Run this code. \n",
        "# We'll save it as a DataFrame for clarity.\n",
        "ic_reformatted = ic_wide.drop(columns='address').set_index('ID')\n",
        "ic_reformatted"
      ],
      "execution_count": null,
      "outputs": [
        {
          "output_type": "execute_result",
          "data": {
            "text/html": [
              "<div>\n",
              "<style scoped>\n",
              "    .dataframe tbody tr th:only-of-type {\n",
              "        vertical-align: middle;\n",
              "    }\n",
              "\n",
              "    .dataframe tbody tr th {\n",
              "        vertical-align: top;\n",
              "    }\n",
              "\n",
              "    .dataframe thead th {\n",
              "        text-align: right;\n",
              "    }\n",
              "</style>\n",
              "<table border=\"1\" class=\"dataframe\">\n",
              "  <thead>\n",
              "    <tr style=\"text-align: right;\">\n",
              "      <th></th>\n",
              "      <th>Monday</th>\n",
              "      <th>Tuesday</th>\n",
              "      <th>Wednesday</th>\n",
              "      <th>Thursday</th>\n",
              "      <th>Friday</th>\n",
              "      <th>Saturday</th>\n",
              "      <th>Sunday</th>\n",
              "    </tr>\n",
              "    <tr>\n",
              "      <th>ID</th>\n",
              "      <th></th>\n",
              "      <th></th>\n",
              "      <th></th>\n",
              "      <th></th>\n",
              "      <th></th>\n",
              "      <th></th>\n",
              "      <th></th>\n",
              "    </tr>\n",
              "  </thead>\n",
              "  <tbody>\n",
              "    <tr>\n",
              "      <th>3677</th>\n",
              "      <td>42</td>\n",
              "      <td>55</td>\n",
              "      <td>92</td>\n",
              "      <td>45</td>\n",
              "      <td>68</td>\n",
              "      <td>124</td>\n",
              "      <td>132</td>\n",
              "    </tr>\n",
              "    <tr>\n",
              "      <th>1492</th>\n",
              "      <td>122</td>\n",
              "      <td>113</td>\n",
              "      <td>123</td>\n",
              "      <td>117</td>\n",
              "      <td>115</td>\n",
              "      <td>122</td>\n",
              "      <td>122</td>\n",
              "    </tr>\n",
              "    <tr>\n",
              "      <th>5838</th>\n",
              "      <td>148</td>\n",
              "      <td>155</td>\n",
              "      <td>143</td>\n",
              "      <td>177</td>\n",
              "      <td>187</td>\n",
              "      <td>203</td>\n",
              "      <td>206</td>\n",
              "    </tr>\n",
              "    <tr>\n",
              "      <th>4297</th>\n",
              "      <td>88</td>\n",
              "      <td>85</td>\n",
              "      <td>91</td>\n",
              "      <td>90</td>\n",
              "      <td>93</td>\n",
              "      <td>40</td>\n",
              "      <td>38</td>\n",
              "    </tr>\n",
              "    <tr>\n",
              "      <th>5336</th>\n",
              "      <td>99</td>\n",
              "      <td>102</td>\n",
              "      <td>105</td>\n",
              "      <td>102</td>\n",
              "      <td>97</td>\n",
              "      <td>135</td>\n",
              "      <td>144</td>\n",
              "    </tr>\n",
              "    <tr>\n",
              "      <th>3442</th>\n",
              "      <td>155</td>\n",
              "      <td>159</td>\n",
              "      <td>142</td>\n",
              "      <td>145</td>\n",
              "      <td>146</td>\n",
              "      <td>180</td>\n",
              "      <td>182</td>\n",
              "    </tr>\n",
              "  </tbody>\n",
              "</table>\n",
              "</div>"
            ],
            "text/plain": [
              "      Monday  Tuesday  Wednesday  Thursday  Friday  Saturday  Sunday\n",
              "ID                                                                  \n",
              "3677      42       55         92        45      68       124     132\n",
              "1492     122      113        123       117     115       122     122\n",
              "5838     148      155        143       177     187       203     206\n",
              "4297      88       85         91        90      93        40      38\n",
              "5336      99      102        105       102      97       135     144\n",
              "3442     155      159        142       145     146       180     182"
            ]
          },
          "metadata": {},
          "execution_count": 106
        }
      ]
    },
    {
      "cell_type": "code",
      "metadata": {
        "id": "UZxX4AE7CFgD",
        "colab": {
          "base_uri": "https://localhost:8080/",
          "height": 361
        },
        "outputId": "8e0c3172-bfc7-4492-b2a9-b8031a91b702"
      },
      "source": [
        "# 16. (*Code) \n",
        "# Use the ic_reformatted to create a heat map. \n",
        "# Title and label as needed.\n",
        "\n",
        "# Your answer: \n",
        "ax = sns.heatmap(data=ic_reformatted,cmap=\"PRGn\")\n",
        "ax.set_title(\"Number of Ice Creams Sold \\n by Shop per Day of the Week, UM\")"
      ],
      "execution_count": null,
      "outputs": [
        {
          "output_type": "execute_result",
          "data": {
            "text/plain": [
              "Text(0.5, 1.0, 'Number of Ice Creams Sold \\n by Shop per Day of the Week, UM')"
            ]
          },
          "metadata": {},
          "execution_count": 107
        },
        {
          "output_type": "display_data",
          "data": {
            "image/png": "[encoded data removed]",
            "text/plain": [
              "<Figure size 432x288 with 2 Axes>"
            ]
          },
          "metadata": {
            "needs_background": "light"
          }
        }
      ]
    },
    {
      "cell_type": "markdown",
      "metadata": {
        "id": "cTk4WH0dTTAf"
      },
      "source": [
        "## Filtering rows on logical values"
      ]
    },
    {
      "cell_type": "code",
      "metadata": {
        "id": "hmlVodHGEeiO"
      },
      "source": [
        "# 17. (*Code and Response)\n",
        "# From the heat map, we can see that one ice cream shop is in a business district \n",
        "# where people do not spend time on the weekend. Let's practice filtering rows\n",
        "# by filtering out the data. \n",
        "\n",
        "# Use the original dataframe ic_wide for this part.\n",
        "# a. (*Response) What is the ID number of this ice cream shop? \n",
        "# b. (*Code) Use logical indexing to print True for the row with that shop and False for the others. \n",
        "# c. (*Code) We want to get rid of that row. We therefore want to flip this to get False for\n",
        "# that row and True for the others. Use negation in the logical indexing to produce\n",
        "# the opposite result of part b. \n",
        "# d. (*Code) Use row selection combined with your answer to part c to print all the rows that \n",
        "# are not that row. \n",
        "# e. (*Code) Save your answer from part d into a dataframe called ic. "
      ],
      "execution_count": null,
      "outputs": []
    },
    {
      "cell_type": "code",
      "metadata": {
        "id": "8XOwzj_vd1IX"
      },
      "source": [
        "# Your answers: \n",
        "# a\n",
        "#4297\n"
      ],
      "execution_count": null,
      "outputs": []
    },
    {
      "cell_type": "code",
      "metadata": {
        "id": "CX0Sq0rSCUdw",
        "colab": {
          "base_uri": "https://localhost:8080/"
        },
        "outputId": "4ec56bec-a685-4655-d574-eb1bc1b9f76e"
      },
      "source": [
        "# b\n",
        "ic_wide['ID'] == 4297"
      ],
      "execution_count": null,
      "outputs": [
        {
          "output_type": "execute_result",
          "data": {
            "text/plain": [
              "0    False\n",
              "1    False\n",
              "2    False\n",
              "3     True\n",
              "4    False\n",
              "5    False\n",
              "Name: ID, dtype: bool"
            ]
          },
          "metadata": {},
          "execution_count": 110
        }
      ]
    },
    {
      "cell_type": "code",
      "metadata": {
        "id": "cO3ZK2r5GQAx",
        "colab": {
          "base_uri": "https://localhost:8080/"
        },
        "outputId": "15c39394-557e-4d14-e491-f28c5631f823"
      },
      "source": [
        "# c\n",
        "ic_wide['ID'] != 4297"
      ],
      "execution_count": null,
      "outputs": [
        {
          "output_type": "execute_result",
          "data": {
            "text/plain": [
              "0     True\n",
              "1     True\n",
              "2     True\n",
              "3    False\n",
              "4     True\n",
              "5     True\n",
              "Name: ID, dtype: bool"
            ]
          },
          "metadata": {},
          "execution_count": 111
        }
      ]
    },
    {
      "cell_type": "code",
      "metadata": {
        "id": "kdiRdTpEGYP8",
        "colab": {
          "base_uri": "https://localhost:8080/",
          "height": 204
        },
        "outputId": "94d5e6e9-6c54-407c-ec43-6ef2d6db6f0f"
      },
      "source": [
        "# d\n",
        "ic_wide[ic_wide['ID'] != 4297]"
      ],
      "execution_count": null,
      "outputs": [
        {
          "output_type": "execute_result",
          "data": {
            "text/html": [
              "<div>\n",
              "<style scoped>\n",
              "    .dataframe tbody tr th:only-of-type {\n",
              "        vertical-align: middle;\n",
              "    }\n",
              "\n",
              "    .dataframe tbody tr th {\n",
              "        vertical-align: top;\n",
              "    }\n",
              "\n",
              "    .dataframe thead th {\n",
              "        text-align: right;\n",
              "    }\n",
              "</style>\n",
              "<table border=\"1\" class=\"dataframe\">\n",
              "  <thead>\n",
              "    <tr style=\"text-align: right;\">\n",
              "      <th></th>\n",
              "      <th>ID</th>\n",
              "      <th>address</th>\n",
              "      <th>Monday</th>\n",
              "      <th>Tuesday</th>\n",
              "      <th>Wednesday</th>\n",
              "      <th>Thursday</th>\n",
              "      <th>Friday</th>\n",
              "      <th>Saturday</th>\n",
              "      <th>Sunday</th>\n",
              "    </tr>\n",
              "  </thead>\n",
              "  <tbody>\n",
              "    <tr>\n",
              "      <th>0</th>\n",
              "      <td>3677</td>\n",
              "      <td>201 1st St 94022</td>\n",
              "      <td>42</td>\n",
              "      <td>55</td>\n",
              "      <td>92</td>\n",
              "      <td>45</td>\n",
              "      <td>68</td>\n",
              "      <td>124</td>\n",
              "      <td>132</td>\n",
              "    </tr>\n",
              "    <tr>\n",
              "      <th>1</th>\n",
              "      <td>1492</td>\n",
              "      <td>6421 Brady St 77011</td>\n",
              "      <td>122</td>\n",
              "      <td>113</td>\n",
              "      <td>123</td>\n",
              "      <td>117</td>\n",
              "      <td>115</td>\n",
              "      <td>122</td>\n",
              "      <td>122</td>\n",
              "    </tr>\n",
              "    <tr>\n",
              "      <th>2</th>\n",
              "      <td>5838</td>\n",
              "      <td>9 US-5 S 05045</td>\n",
              "      <td>148</td>\n",
              "      <td>155</td>\n",
              "      <td>143</td>\n",
              "      <td>177</td>\n",
              "      <td>187</td>\n",
              "      <td>203</td>\n",
              "      <td>206</td>\n",
              "    </tr>\n",
              "    <tr>\n",
              "      <th>4</th>\n",
              "      <td>5336</td>\n",
              "      <td>2450 E Mason St 54302</td>\n",
              "      <td>99</td>\n",
              "      <td>102</td>\n",
              "      <td>105</td>\n",
              "      <td>102</td>\n",
              "      <td>97</td>\n",
              "      <td>135</td>\n",
              "      <td>144</td>\n",
              "    </tr>\n",
              "    <tr>\n",
              "      <th>5</th>\n",
              "      <td>3442</td>\n",
              "      <td>4301 University Way NE 98105</td>\n",
              "      <td>155</td>\n",
              "      <td>159</td>\n",
              "      <td>142</td>\n",
              "      <td>145</td>\n",
              "      <td>146</td>\n",
              "      <td>180</td>\n",
              "      <td>182</td>\n",
              "    </tr>\n",
              "  </tbody>\n",
              "</table>\n",
              "</div>"
            ],
            "text/plain": [
              "     ID                       address  Monday  ...  Friday  Saturday  Sunday\n",
              "0  3677              201 1st St 94022      42  ...      68       124     132\n",
              "1  1492           6421 Brady St 77011     122  ...     115       122     122\n",
              "2  5838                9 US-5 S 05045     148  ...     187       203     206\n",
              "4  5336         2450 E Mason St 54302      99  ...      97       135     144\n",
              "5  3442  4301 University Way NE 98105     155  ...     146       180     182\n",
              "\n",
              "[5 rows x 9 columns]"
            ]
          },
          "metadata": {},
          "execution_count": 112
        }
      ]
    },
    {
      "cell_type": "code",
      "metadata": {
        "id": "ojLek3-jGhHb",
        "colab": {
          "base_uri": "https://localhost:8080/",
          "height": 204
        },
        "outputId": "ff651626-7e02-4600-e2c9-9842c18c7e86"
      },
      "source": [
        "# e\n",
        "\n",
        "ic = ic_wide[ic_wide['ID'] != 4297]\n",
        "\n",
        "# (leave this at the end of this cell to check your work: )\n",
        "ic"
      ],
      "execution_count": null,
      "outputs": [
        {
          "output_type": "execute_result",
          "data": {
            "text/html": [
              "<div>\n",
              "<style scoped>\n",
              "    .dataframe tbody tr th:only-of-type {\n",
              "        vertical-align: middle;\n",
              "    }\n",
              "\n",
              "    .dataframe tbody tr th {\n",
              "        vertical-align: top;\n",
              "    }\n",
              "\n",
              "    .dataframe thead th {\n",
              "        text-align: right;\n",
              "    }\n",
              "</style>\n",
              "<table border=\"1\" class=\"dataframe\">\n",
              "  <thead>\n",
              "    <tr style=\"text-align: right;\">\n",
              "      <th></th>\n",
              "      <th>ID</th>\n",
              "      <th>address</th>\n",
              "      <th>Monday</th>\n",
              "      <th>Tuesday</th>\n",
              "      <th>Wednesday</th>\n",
              "      <th>Thursday</th>\n",
              "      <th>Friday</th>\n",
              "      <th>Saturday</th>\n",
              "      <th>Sunday</th>\n",
              "    </tr>\n",
              "  </thead>\n",
              "  <tbody>\n",
              "    <tr>\n",
              "      <th>0</th>\n",
              "      <td>3677</td>\n",
              "      <td>201 1st St 94022</td>\n",
              "      <td>42</td>\n",
              "      <td>55</td>\n",
              "      <td>92</td>\n",
              "      <td>45</td>\n",
              "      <td>68</td>\n",
              "      <td>124</td>\n",
              "      <td>132</td>\n",
              "    </tr>\n",
              "    <tr>\n",
              "      <th>1</th>\n",
              "      <td>1492</td>\n",
              "      <td>6421 Brady St 77011</td>\n",
              "      <td>122</td>\n",
              "      <td>113</td>\n",
              "      <td>123</td>\n",
              "      <td>117</td>\n",
              "      <td>115</td>\n",
              "      <td>122</td>\n",
              "      <td>122</td>\n",
              "    </tr>\n",
              "    <tr>\n",
              "      <th>2</th>\n",
              "      <td>5838</td>\n",
              "      <td>9 US-5 S 05045</td>\n",
              "      <td>148</td>\n",
              "      <td>155</td>\n",
              "      <td>143</td>\n",
              "      <td>177</td>\n",
              "      <td>187</td>\n",
              "      <td>203</td>\n",
              "      <td>206</td>\n",
              "    </tr>\n",
              "    <tr>\n",
              "      <th>4</th>\n",
              "      <td>5336</td>\n",
              "      <td>2450 E Mason St 54302</td>\n",
              "      <td>99</td>\n",
              "      <td>102</td>\n",
              "      <td>105</td>\n",
              "      <td>102</td>\n",
              "      <td>97</td>\n",
              "      <td>135</td>\n",
              "      <td>144</td>\n",
              "    </tr>\n",
              "    <tr>\n",
              "      <th>5</th>\n",
              "      <td>3442</td>\n",
              "      <td>4301 University Way NE 98105</td>\n",
              "      <td>155</td>\n",
              "      <td>159</td>\n",
              "      <td>142</td>\n",
              "      <td>145</td>\n",
              "      <td>146</td>\n",
              "      <td>180</td>\n",
              "      <td>182</td>\n",
              "    </tr>\n",
              "  </tbody>\n",
              "</table>\n",
              "</div>"
            ],
            "text/plain": [
              "     ID                       address  Monday  ...  Friday  Saturday  Sunday\n",
              "0  3677              201 1st St 94022      42  ...      68       124     132\n",
              "1  1492           6421 Brady St 77011     122  ...     115       122     122\n",
              "2  5838                9 US-5 S 05045     148  ...     187       203     206\n",
              "4  5336         2450 E Mason St 54302      99  ...      97       135     144\n",
              "5  3442  4301 University Way NE 98105     155  ...     146       180     182\n",
              "\n",
              "[5 rows x 9 columns]"
            ]
          },
          "metadata": {},
          "execution_count": 113
        }
      ]
    },
    {
      "cell_type": "code",
      "metadata": {
        "id": "Yjep7BzRLK38",
        "colab": {
          "base_uri": "https://localhost:8080/"
        },
        "outputId": "8e62f094-64c6-48aa-d32e-45c0ec7927b5"
      },
      "source": [
        "# 18. Run this code to get the columns for days of the week. For those interested in Python, this is an \n",
        "# example of list comprehension. \n",
        "days_columns = [col for col in ic_wide.columns if col.endswith('day')]\n",
        "days_columns"
      ],
      "execution_count": null,
      "outputs": [
        {
          "output_type": "execute_result",
          "data": {
            "text/plain": [
              "['Monday', 'Tuesday', 'Wednesday', 'Thursday', 'Friday', 'Saturday', 'Sunday']"
            ]
          },
          "metadata": {},
          "execution_count": 114
        }
      ]
    },
    {
      "cell_type": "code",
      "metadata": {
        "id": "4FOLP4THNERR",
        "colab": {
          "base_uri": "https://localhost:8080/",
          "height": 235
        },
        "outputId": "c0cb6946-d344-4287-bf59-79779603f5f1"
      },
      "source": [
        "# 19. Run this code to get the data frame subset that is only these days. \n",
        "ic_wide[days_columns]"
      ],
      "execution_count": null,
      "outputs": [
        {
          "output_type": "execute_result",
          "data": {
            "text/html": [
              "<div>\n",
              "<style scoped>\n",
              "    .dataframe tbody tr th:only-of-type {\n",
              "        vertical-align: middle;\n",
              "    }\n",
              "\n",
              "    .dataframe tbody tr th {\n",
              "        vertical-align: top;\n",
              "    }\n",
              "\n",
              "    .dataframe thead th {\n",
              "        text-align: right;\n",
              "    }\n",
              "</style>\n",
              "<table border=\"1\" class=\"dataframe\">\n",
              "  <thead>\n",
              "    <tr style=\"text-align: right;\">\n",
              "      <th></th>\n",
              "      <th>Monday</th>\n",
              "      <th>Tuesday</th>\n",
              "      <th>Wednesday</th>\n",
              "      <th>Thursday</th>\n",
              "      <th>Friday</th>\n",
              "      <th>Saturday</th>\n",
              "      <th>Sunday</th>\n",
              "    </tr>\n",
              "  </thead>\n",
              "  <tbody>\n",
              "    <tr>\n",
              "      <th>0</th>\n",
              "      <td>42</td>\n",
              "      <td>55</td>\n",
              "      <td>92</td>\n",
              "      <td>45</td>\n",
              "      <td>68</td>\n",
              "      <td>124</td>\n",
              "      <td>132</td>\n",
              "    </tr>\n",
              "    <tr>\n",
              "      <th>1</th>\n",
              "      <td>122</td>\n",
              "      <td>113</td>\n",
              "      <td>123</td>\n",
              "      <td>117</td>\n",
              "      <td>115</td>\n",
              "      <td>122</td>\n",
              "      <td>122</td>\n",
              "    </tr>\n",
              "    <tr>\n",
              "      <th>2</th>\n",
              "      <td>148</td>\n",
              "      <td>155</td>\n",
              "      <td>143</td>\n",
              "      <td>177</td>\n",
              "      <td>187</td>\n",
              "      <td>203</td>\n",
              "      <td>206</td>\n",
              "    </tr>\n",
              "    <tr>\n",
              "      <th>3</th>\n",
              "      <td>88</td>\n",
              "      <td>85</td>\n",
              "      <td>91</td>\n",
              "      <td>90</td>\n",
              "      <td>93</td>\n",
              "      <td>40</td>\n",
              "      <td>38</td>\n",
              "    </tr>\n",
              "    <tr>\n",
              "      <th>4</th>\n",
              "      <td>99</td>\n",
              "      <td>102</td>\n",
              "      <td>105</td>\n",
              "      <td>102</td>\n",
              "      <td>97</td>\n",
              "      <td>135</td>\n",
              "      <td>144</td>\n",
              "    </tr>\n",
              "    <tr>\n",
              "      <th>5</th>\n",
              "      <td>155</td>\n",
              "      <td>159</td>\n",
              "      <td>142</td>\n",
              "      <td>145</td>\n",
              "      <td>146</td>\n",
              "      <td>180</td>\n",
              "      <td>182</td>\n",
              "    </tr>\n",
              "  </tbody>\n",
              "</table>\n",
              "</div>"
            ],
            "text/plain": [
              "   Monday  Tuesday  Wednesday  Thursday  Friday  Saturday  Sunday\n",
              "0      42       55         92        45      68       124     132\n",
              "1     122      113        123       117     115       122     122\n",
              "2     148      155        143       177     187       203     206\n",
              "3      88       85         91        90      93        40      38\n",
              "4      99      102        105       102      97       135     144\n",
              "5     155      159        142       145     146       180     182"
            ]
          },
          "metadata": {},
          "execution_count": 115
        }
      ]
    },
    {
      "cell_type": "code",
      "metadata": {
        "id": "C7ydX7dfMaws",
        "colab": {
          "base_uri": "https://localhost:8080/"
        },
        "outputId": "138f5fc8-de2a-4940-e31c-544c383d5d8d"
      },
      "source": [
        "# 20. (*Response) We want the sum of all the ice creams for each shop. \n",
        "# Try this: \n",
        "ic_wide[days_columns].sum()\n",
        "# Question: is this code displaying the sum of each column or the sum of each\n",
        "# row of the DataFrame? \n",
        "\n",
        "# Your answer: \n",
        "# It is displaying the sum of each column"
      ],
      "execution_count": null,
      "outputs": [
        {
          "output_type": "execute_result",
          "data": {
            "text/plain": [
              "Monday       654\n",
              "Tuesday      669\n",
              "Wednesday    696\n",
              "Thursday     676\n",
              "Friday       706\n",
              "Saturday     804\n",
              "Sunday       824\n",
              "dtype: int64"
            ]
          },
          "metadata": {},
          "execution_count": 116
        }
      ]
    },
    {
      "cell_type": "code",
      "metadata": {
        "id": "NbTrEQDJZLTk",
        "colab": {
          "base_uri": "https://localhost:8080/"
        },
        "outputId": "bb02cd52-1e00-44c4-d320-0a3c18043401"
      },
      "source": [
        "# 21. Ask it to instead sum in the opposite dimension by changing the code to: \n",
        "# .sum(axis=1)\n",
        "# axis tells pandas whether to do operations by row or column, and is used commonly\n",
        "# in many pandas functions. \n",
        "# Run this code to see the result.\n",
        "ic_wide[days_columns].sum(axis=1)"
      ],
      "execution_count": null,
      "outputs": [
        {
          "output_type": "execute_result",
          "data": {
            "text/plain": [
              "0     558\n",
              "1     834\n",
              "2    1219\n",
              "3     525\n",
              "4     784\n",
              "5    1109\n",
              "dtype: int64"
            ]
          },
          "metadata": {},
          "execution_count": 117
        }
      ]
    },
    {
      "cell_type": "code",
      "metadata": {
        "id": "VtSPtjOcNSEw",
        "colab": {
          "base_uri": "https://localhost:8080/",
          "height": 235
        },
        "outputId": "9a2ece86-cbab-4cf0-8ad7-481c33fbc135"
      },
      "source": [
        "# 22. (*Code)\n",
        "# Create a new variable in ic_wide called 'total_per_shop' and set it equal to the \n",
        "# relevant expression from above (from #20 or #21). This variable should hold the total ice cream\n",
        "# sold across all days of the week for a given shop.\n",
        "\n",
        "# Your answer: \n",
        "ic_wide['total_per_shop'] = ic_wide[days_columns].sum(axis=1)\n",
        "\n",
        "ic_wide\n",
        "\n"
      ],
      "execution_count": null,
      "outputs": [
        {
          "output_type": "execute_result",
          "data": {
            "text/html": [
              "<div>\n",
              "<style scoped>\n",
              "    .dataframe tbody tr th:only-of-type {\n",
              "        vertical-align: middle;\n",
              "    }\n",
              "\n",
              "    .dataframe tbody tr th {\n",
              "        vertical-align: top;\n",
              "    }\n",
              "\n",
              "    .dataframe thead th {\n",
              "        text-align: right;\n",
              "    }\n",
              "</style>\n",
              "<table border=\"1\" class=\"dataframe\">\n",
              "  <thead>\n",
              "    <tr style=\"text-align: right;\">\n",
              "      <th></th>\n",
              "      <th>ID</th>\n",
              "      <th>address</th>\n",
              "      <th>Monday</th>\n",
              "      <th>Tuesday</th>\n",
              "      <th>Wednesday</th>\n",
              "      <th>Thursday</th>\n",
              "      <th>Friday</th>\n",
              "      <th>Saturday</th>\n",
              "      <th>Sunday</th>\n",
              "      <th>total_per_shop</th>\n",
              "    </tr>\n",
              "  </thead>\n",
              "  <tbody>\n",
              "    <tr>\n",
              "      <th>0</th>\n",
              "      <td>3677</td>\n",
              "      <td>201 1st St 94022</td>\n",
              "      <td>42</td>\n",
              "      <td>55</td>\n",
              "      <td>92</td>\n",
              "      <td>45</td>\n",
              "      <td>68</td>\n",
              "      <td>124</td>\n",
              "      <td>132</td>\n",
              "      <td>558</td>\n",
              "    </tr>\n",
              "    <tr>\n",
              "      <th>1</th>\n",
              "      <td>1492</td>\n",
              "      <td>6421 Brady St 77011</td>\n",
              "      <td>122</td>\n",
              "      <td>113</td>\n",
              "      <td>123</td>\n",
              "      <td>117</td>\n",
              "      <td>115</td>\n",
              "      <td>122</td>\n",
              "      <td>122</td>\n",
              "      <td>834</td>\n",
              "    </tr>\n",
              "    <tr>\n",
              "      <th>2</th>\n",
              "      <td>5838</td>\n",
              "      <td>9 US-5 S 05045</td>\n",
              "      <td>148</td>\n",
              "      <td>155</td>\n",
              "      <td>143</td>\n",
              "      <td>177</td>\n",
              "      <td>187</td>\n",
              "      <td>203</td>\n",
              "      <td>206</td>\n",
              "      <td>1219</td>\n",
              "    </tr>\n",
              "    <tr>\n",
              "      <th>3</th>\n",
              "      <td>4297</td>\n",
              "      <td>12345 El Monte Rd 94022</td>\n",
              "      <td>88</td>\n",
              "      <td>85</td>\n",
              "      <td>91</td>\n",
              "      <td>90</td>\n",
              "      <td>93</td>\n",
              "      <td>40</td>\n",
              "      <td>38</td>\n",
              "      <td>525</td>\n",
              "    </tr>\n",
              "    <tr>\n",
              "      <th>4</th>\n",
              "      <td>5336</td>\n",
              "      <td>2450 E Mason St 54302</td>\n",
              "      <td>99</td>\n",
              "      <td>102</td>\n",
              "      <td>105</td>\n",
              "      <td>102</td>\n",
              "      <td>97</td>\n",
              "      <td>135</td>\n",
              "      <td>144</td>\n",
              "      <td>784</td>\n",
              "    </tr>\n",
              "    <tr>\n",
              "      <th>5</th>\n",
              "      <td>3442</td>\n",
              "      <td>4301 University Way NE 98105</td>\n",
              "      <td>155</td>\n",
              "      <td>159</td>\n",
              "      <td>142</td>\n",
              "      <td>145</td>\n",
              "      <td>146</td>\n",
              "      <td>180</td>\n",
              "      <td>182</td>\n",
              "      <td>1109</td>\n",
              "    </tr>\n",
              "  </tbody>\n",
              "</table>\n",
              "</div>"
            ],
            "text/plain": [
              "     ID                       address  Monday  ...  Saturday  Sunday  total_per_shop\n",
              "0  3677              201 1st St 94022      42  ...       124     132             558\n",
              "1  1492           6421 Brady St 77011     122  ...       122     122             834\n",
              "2  5838                9 US-5 S 05045     148  ...       203     206            1219\n",
              "3  4297       12345 El Monte Rd 94022      88  ...        40      38             525\n",
              "4  5336         2450 E Mason St 54302      99  ...       135     144             784\n",
              "5  3442  4301 University Way NE 98105     155  ...       180     182            1109\n",
              "\n",
              "[6 rows x 10 columns]"
            ]
          },
          "metadata": {},
          "execution_count": 118
        }
      ]
    },
    {
      "cell_type": "markdown",
      "metadata": {
        "id": "IDCbOu1RUPnN"
      },
      "source": [
        "# Part 1b Try out the geopy library and make a scatterplot with latitudes\n",
        "\n",
        "This part will demonstrate more use of Pandas incorporating another, unrelated library as well. It may especially be of interest to those who anticipate using Python for geospatial data. \n",
        "\n"
      ]
    },
    {
      "cell_type": "code",
      "metadata": {
        "id": "5GRjJCWyRKn5",
        "colab": {
          "base_uri": "https://localhost:8080/"
        },
        "outputId": "51c2fb9e-c6d8-4947-d51e-5fe2a28f2285"
      },
      "source": [
        "# 23. Let's try out the geopy library! \n",
        "# Run this code to look up the given address and see details. \n",
        "geolocator = geopy.Nominatim(user_agent=\"example\")\n",
        "location = geolocator.geocode(\"201 1st St 94022\")\n",
        "location"
      ],
      "execution_count": null,
      "outputs": [
        {
          "output_type": "execute_result",
          "data": {
            "text/plain": [
              "Location(201, 1st Street, Los Altos, Santa Clara County, California, 94022, United States, (37.378111, -122.117829, 0.0))"
            ]
          },
          "metadata": {},
          "execution_count": 119
        }
      ]
    },
    {
      "cell_type": "code",
      "metadata": {
        "id": "9YqC99tlRu-Y",
        "colab": {
          "base_uri": "https://localhost:8080/"
        },
        "outputId": "8c967258-429b-4367-db47-2b796fcea909"
      },
      "source": [
        "# 24. Run this to see even more details. \n",
        "location.raw"
      ],
      "execution_count": null,
      "outputs": [
        {
          "output_type": "execute_result",
          "data": {
            "text/plain": [
              "{'boundingbox': ['37.378061', '37.378161', '-122.117879', '-122.117779'],\n",
              " 'class': 'place',\n",
              " 'display_name': '201, 1st Street, Los Altos, Santa Clara County, California, 94022, United States',\n",
              " 'importance': 0.42099999999999993,\n",
              " 'lat': '37.378111',\n",
              " 'licence': 'Data © OpenStreetMap contributors, ODbL 1.0. https://osm.org/copyright',\n",
              " 'lon': '-122.117829',\n",
              " 'osm_id': 687205262,\n",
              " 'osm_type': 'way',\n",
              " 'place_id': 304626212,\n",
              " 'type': 'house'}"
            ]
          },
          "metadata": {},
          "execution_count": 120
        }
      ]
    },
    {
      "cell_type": "code",
      "metadata": {
        "id": "Ixov58vDR295",
        "colab": {
          "base_uri": "https://localhost:8080/"
        },
        "outputId": "2a3f23a3-80ae-46d7-94b4-b341d27a5838"
      },
      "source": [
        "# 25. We can extract the latitude like this. \n",
        "location.latitude"
      ],
      "execution_count": null,
      "outputs": [
        {
          "output_type": "execute_result",
          "data": {
            "text/plain": [
              "37.378111"
            ]
          },
          "metadata": {},
          "execution_count": 121
        }
      ]
    },
    {
      "cell_type": "code",
      "metadata": {
        "id": "eSLV0NDKSPbq",
        "colab": {
          "base_uri": "https://localhost:8080/"
        },
        "outputId": "ad9a135f-c09f-4481-a26e-91ae86375239"
      },
      "source": [
        "# 26. Here's another example.\n",
        "location = geolocator.geocode(\"4301 University Way NE 98105\")\n",
        "location"
      ],
      "execution_count": null,
      "outputs": [
        {
          "output_type": "execute_result",
          "data": {
            "text/plain": [
              "Location(Sweet Alchemy Ice Creamery, 4301, University Way Northeast, University District, Seattle, King County, Washington, 98105, United States, (47.6598971, -122.3133449, 0.0))"
            ]
          },
          "metadata": {},
          "execution_count": 122
        }
      ]
    },
    {
      "cell_type": "code",
      "metadata": {
        "id": "f42dR11QSVe7",
        "colab": {
          "base_uri": "https://localhost:8080/"
        },
        "outputId": "6d91aba8-e2a9-4cfc-83c8-3b8b5625e4c4"
      },
      "source": [
        "# 27. Note how detailed this can get! The \"type\" is ice cream. \n",
        "# (But sometimes this field is totally wrong.)\n",
        "location.raw"
      ],
      "execution_count": null,
      "outputs": [
        {
          "output_type": "execute_result",
          "data": {
            "text/plain": [
              "{'boundingbox': ['47.6598471', '47.6599471', '-122.3133949', '-122.3132949'],\n",
              " 'class': 'amenity',\n",
              " 'display_name': 'Sweet Alchemy Ice Creamery, 4301, University Way Northeast, University District, Seattle, King County, Washington, 98105, United States',\n",
              " 'importance': 0.42099999999999993,\n",
              " 'lat': '47.6598971',\n",
              " 'licence': 'Data © OpenStreetMap contributors, ODbL 1.0. https://osm.org/copyright',\n",
              " 'lon': '-122.3133449',\n",
              " 'osm_id': 2464036648,\n",
              " 'osm_type': 'node',\n",
              " 'place_id': 22047119,\n",
              " 'type': 'ice_cream'}"
            ]
          },
          "metadata": {},
          "execution_count": 123
        }
      ]
    },
    {
      "cell_type": "code",
      "metadata": {
        "id": "fCKoIwaWV5HL"
      },
      "source": [
        "# 28. Run this to load a small function that looks up an address and extracts latitude.\n",
        "def getLatitude(address,geolocator):\n",
        "    location = geolocator.geocode(address)\n",
        "    return location.latitude"
      ],
      "execution_count": null,
      "outputs": []
    },
    {
      "cell_type": "code",
      "metadata": {
        "id": "eGT_mtxoWDBz",
        "colab": {
          "base_uri": "https://localhost:8080/",
          "height": 235
        },
        "outputId": "69973d42-f87a-4d7e-ca72-1d460abc9c09"
      },
      "source": [
        "# 29. Run this to get the latitude for each address. It will store this information in \n",
        "# the data frame. (ignore the SettingWithCopyWarning, if it appears)\n",
        "ic_wide['latitudes'] = ic_wide['address'].apply(getLatitude,args=(geolocator,))\n",
        "ic_wide"
      ],
      "execution_count": null,
      "outputs": [
        {
          "output_type": "execute_result",
          "data": {
            "text/html": [
              "<div>\n",
              "<style scoped>\n",
              "    .dataframe tbody tr th:only-of-type {\n",
              "        vertical-align: middle;\n",
              "    }\n",
              "\n",
              "    .dataframe tbody tr th {\n",
              "        vertical-align: top;\n",
              "    }\n",
              "\n",
              "    .dataframe thead th {\n",
              "        text-align: right;\n",
              "    }\n",
              "</style>\n",
              "<table border=\"1\" class=\"dataframe\">\n",
              "  <thead>\n",
              "    <tr style=\"text-align: right;\">\n",
              "      <th></th>\n",
              "      <th>ID</th>\n",
              "      <th>address</th>\n",
              "      <th>Monday</th>\n",
              "      <th>Tuesday</th>\n",
              "      <th>Wednesday</th>\n",
              "      <th>Thursday</th>\n",
              "      <th>Friday</th>\n",
              "      <th>Saturday</th>\n",
              "      <th>Sunday</th>\n",
              "      <th>total_per_shop</th>\n",
              "      <th>latitudes</th>\n",
              "    </tr>\n",
              "  </thead>\n",
              "  <tbody>\n",
              "    <tr>\n",
              "      <th>0</th>\n",
              "      <td>3677</td>\n",
              "      <td>201 1st St 94022</td>\n",
              "      <td>42</td>\n",
              "      <td>55</td>\n",
              "      <td>92</td>\n",
              "      <td>45</td>\n",
              "      <td>68</td>\n",
              "      <td>124</td>\n",
              "      <td>132</td>\n",
              "      <td>558</td>\n",
              "      <td>37.378111</td>\n",
              "    </tr>\n",
              "    <tr>\n",
              "      <th>1</th>\n",
              "      <td>1492</td>\n",
              "      <td>6421 Brady St 77011</td>\n",
              "      <td>122</td>\n",
              "      <td>113</td>\n",
              "      <td>123</td>\n",
              "      <td>117</td>\n",
              "      <td>115</td>\n",
              "      <td>122</td>\n",
              "      <td>122</td>\n",
              "      <td>834</td>\n",
              "      <td>29.741984</td>\n",
              "    </tr>\n",
              "    <tr>\n",
              "      <th>2</th>\n",
              "      <td>5838</td>\n",
              "      <td>9 US-5 S 05045</td>\n",
              "      <td>148</td>\n",
              "      <td>155</td>\n",
              "      <td>143</td>\n",
              "      <td>177</td>\n",
              "      <td>187</td>\n",
              "      <td>203</td>\n",
              "      <td>206</td>\n",
              "      <td>1219</td>\n",
              "      <td>42.472888</td>\n",
              "    </tr>\n",
              "    <tr>\n",
              "      <th>3</th>\n",
              "      <td>4297</td>\n",
              "      <td>12345 El Monte Rd 94022</td>\n",
              "      <td>88</td>\n",
              "      <td>85</td>\n",
              "      <td>91</td>\n",
              "      <td>90</td>\n",
              "      <td>93</td>\n",
              "      <td>40</td>\n",
              "      <td>38</td>\n",
              "      <td>525</td>\n",
              "      <td>37.363176</td>\n",
              "    </tr>\n",
              "    <tr>\n",
              "      <th>4</th>\n",
              "      <td>5336</td>\n",
              "      <td>2450 E Mason St 54302</td>\n",
              "      <td>99</td>\n",
              "      <td>102</td>\n",
              "      <td>105</td>\n",
              "      <td>102</td>\n",
              "      <td>97</td>\n",
              "      <td>135</td>\n",
              "      <td>144</td>\n",
              "      <td>784</td>\n",
              "      <td>44.487384</td>\n",
              "    </tr>\n",
              "    <tr>\n",
              "      <th>5</th>\n",
              "      <td>3442</td>\n",
              "      <td>4301 University Way NE 98105</td>\n",
              "      <td>155</td>\n",
              "      <td>159</td>\n",
              "      <td>142</td>\n",
              "      <td>145</td>\n",
              "      <td>146</td>\n",
              "      <td>180</td>\n",
              "      <td>182</td>\n",
              "      <td>1109</td>\n",
              "      <td>47.659897</td>\n",
              "    </tr>\n",
              "  </tbody>\n",
              "</table>\n",
              "</div>"
            ],
            "text/plain": [
              "     ID                       address  ...  total_per_shop  latitudes\n",
              "0  3677              201 1st St 94022  ...             558  37.378111\n",
              "1  1492           6421 Brady St 77011  ...             834  29.741984\n",
              "2  5838                9 US-5 S 05045  ...            1219  42.472888\n",
              "3  4297       12345 El Monte Rd 94022  ...             525  37.363176\n",
              "4  5336         2450 E Mason St 54302  ...             784  44.487384\n",
              "5  3442  4301 University Way NE 98105  ...            1109  47.659897\n",
              "\n",
              "[6 rows x 11 columns]"
            ]
          },
          "metadata": {},
          "execution_count": 125
        }
      ]
    },
    {
      "cell_type": "code",
      "metadata": {
        "id": "F0A0fh8QWK3j",
        "colab": {
          "base_uri": "https://localhost:8080/",
          "height": 312
        },
        "outputId": "b51b3300-b298-48dc-a72e-bf1af276d432"
      },
      "source": [
        "# 30. (*Code)\n",
        "# Using Seaborn, create a scatterplot for the total_per_shop vs the latitude. \n",
        "# Give this plot better axis labels and a title. \n",
        "\n",
        "# Your answer: \n",
        "ax = sns.scatterplot(x=\"total_per_shop\",y=\"latitudes\",data=ic_wide)\n",
        "ax.set_title(\"Number of Ice Creams Sold by Latitude (Store), UM\")\n",
        "ax.set_xlabel(\"Number of Ice Creams Sold\")\n",
        "ax.set_ylabel(\"latitudes\")\n"
      ],
      "execution_count": null,
      "outputs": [
        {
          "output_type": "execute_result",
          "data": {
            "text/plain": [
              "Text(0, 0.5, 'latitudes')"
            ]
          },
          "metadata": {},
          "execution_count": 126
        },
        {
          "output_type": "display_data",
          "data": {
            "image/png": "[encoded data removed]",
            "text/plain": [
              "<Figure size 432x288 with 1 Axes>"
            ]
          },
          "metadata": {
            "needs_background": "light"
          }
        }
      ]
    },
    {
      "cell_type": "code",
      "metadata": {
        "id": "YuSZF36KPSzU"
      },
      "source": [
        "# 31. (*Response) \n",
        "# Answer this question: In these data, do you see an obvious trend related to \n",
        "# latitude and ice cream consumption pattern? \n",
        "\n",
        "# Your answer: Yes, those with latitudes > 40, sell approximately more than 800 ice creams.\n",
        "# Of course, latitude 29 is an exception. The dataset is too small. Only 6 values.\n",
        "# Despite that, I do see a pattern: the greater the latitude, the more ice creams are sold.\n"
      ],
      "execution_count": null,
      "outputs": []
    },
    {
      "cell_type": "markdown",
      "metadata": {
        "id": "ccbEOikNtFeF"
      },
      "source": [
        "# Part 1c: short answer\n",
        "\n",
        "Answer the following short questions based on what we covered in this lab. "
      ]
    },
    {
      "cell_type": "code",
      "metadata": {
        "id": "FBRah26utQTo"
      },
      "source": [
        "# 32. (*Response) How do we subset columns of a dataframe? \n",
        "# 33. (*Response) Briefly (max 1-2 sentences) describe how to choose rows of a dataframe \n",
        "# based on a characteristic of the data in those rows. \n",
        "# 34. (*Response) Which function transforms wide data into long data? \n",
        "# 35. (*Response) What is the Index of a dataframe? \n",
        "# 36. (*Response) Which function makes a column of the dataframe become its index instead? \n",
        "# 37. (*Response) Does this code permanently remove a column of the dataframe or \n",
        "# simply drop a column from a temporary copy of a dataframe? \n",
        "# ic_wide.drop(columns='address')\n",
        "# 38. (*Response) Which format is needed for most types of plots in modern data \n",
        "# visualization software: long or wide? \n",
        "# 39. (*Response) Which format is needed for heat maps in Seaborn specifically: \n",
        "# long or wide? \n",
        "\n",
        "\n",
        "# Your answers: \n",
        "# 32. We create a list of the column names, which we use to index the dataframe. \n",
        "# example: dataframe[['column1', 'column2']]\n",
        "# 33. By boolean indexing. Index the dataframe, using the boolean operation (which contains the conditions desired)\n",
        "# example: dataframe[dataframe['month'] == 'February']\n",
        "# 34. melt()\n",
        "# 35. The labels of the rows. An index is a unique identifier for a row. And we can set any column as the index.\n",
        "# 36. set_index()\n",
        "# 37. It simply drops a column from a temporary copy of a dataframe\n",
        "# 38. Long \n",
        "# 39. wide\n"
      ],
      "execution_count": null,
      "outputs": []
    },
    {
      "cell_type": "markdown",
      "metadata": {
        "id": "KoSPhAvmv1aZ"
      },
      "source": [
        "# Wrapping up\n",
        "- Please remember to title and label any plots before turning this in.\n",
        "- Check your work by re-running from the top cell. \n",
        "- Download your file to turn in using File - Download ipynb\n",
        "\n",
        "# Next lab\n",
        "In the next pandas lab, we will work with grouping data (split-apply-combine), differences between a Pandas DataFrame vs. Series, the inverse function to set_index(), converting data types in Pandas, making lasting changes to the actual dataframe rather than to a temporary copy, and merging/joining dataframes. "
      ]
    }
  ]
}