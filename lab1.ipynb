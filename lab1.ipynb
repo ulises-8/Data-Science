{
 "cells": [
  {
   "cell_type": "markdown",
   "metadata": {},
   "source": [
    "Lab 1: Data analysis with numpy"
   ]
  },
  {
   "cell_type": "code",
   "execution_count": null,
   "metadata": {},
   "outputs": [],
   "source": [
    "# Name: Ulises Marian"
   ]
  },
  {
   "cell_type": "markdown",
   "metadata": {},
   "source": [
    "Write code to investigate population data of countries of the world.\n",
    "<br>\n",
    "<br>Note:\n",
    "<br>- Do not use pandas for this lab\n",
    "<br>- Take advantage of numpy's functions instead of writing loops to access data\n",
    "<br>If your code doesn't contain any loop to access data in the population numpy array, you earn 1pt EC\n"
   ]
  },
  {
   "cell_type": "markdown",
   "metadata": {},
   "source": [
    "1. From `countryNames.csv` file, read and store all the country names.\n",
    "<br>From `years.txt` file, read and store all the years.\n",
    "<br>Print the number of countries and the number of years, with text explanation\n",
    "<br>\n",
    "<br>Example of print out, including text explanation:\n",
    "<br> Countries: 215\n",
    "<br> Years: 60"
   ]
  },
  {
   "cell_type": "code",
   "execution_count": 565,
   "metadata": {
    "scrolled": false
   },
   "outputs": [
    {
     "name": "stdout",
     "output_type": "stream",
     "text": [
      "Countries: 215 \n",
      "Years: 60\n"
     ]
    }
   ],
   "source": [
    "import numpy as np\n",
    "import csv\n",
    "\n",
    "# with open(\"countryNames.csv\") as f :\n",
    "#     reader = csv.reader(f, delimiter=\",\")\n",
    "#     line_count = 0\n",
    "#     country_names = []\n",
    "#     for L in reader :\n",
    "#         if line_count == 0:\n",
    "#             line_count += 1\n",
    "#             continue\n",
    "\n",
    "#         else:\n",
    "#             country_names.append(L[0])\n",
    "\n",
    "#use one below instead? same as country_names above, except that \"The, Bahamas\", is \"Bahamas\"..trying to fix that\n",
    "country_names = np.genfromtxt(\"countryNames.csv\", delimiter=\",\", skip_header=1, usecols=(0), dtype=str)\n",
    "#print(country_names)\n",
    "\n",
    "#years\n",
    "years = np.loadtxt(\"years.txt\", delimiter=\",\", dtype=np.int)\n",
    "\n",
    "print(f\"Countries: {len(country_names)} \\nYears: {len(years)}\")"
   ]
  },
  {
   "cell_type": "markdown",
   "metadata": {},
   "source": [
    "2. From `population.csv` file, create a 2D numpy array of the population.\n",
    "<br>Each line of the file corresponds with one country in the `countryNames.csv` file.\n",
    "<br>Each column of the file corresponds with one year in the `years.txt` file.\n",
    "<br>Print the tuple of the number of rows and number of columns of the numpy array to show that the numbers match the number of countries and years above.\n",
    "<br>\n",
    "<br>Since the data values are large (in billions) make sure you use the numpy data type that can store large values"
   ]
  },
  {
   "cell_type": "code",
   "execution_count": 568,
   "metadata": {
    "scrolled": false
   },
   "outputs": [
    {
     "name": "stdout",
     "output_type": "stream",
     "text": [
      "(215, 60)\n"
     ]
    }
   ],
   "source": [
    "with open(\"population.csv\") as f:\n",
    "    reader = csv.reader(f, delimiter=\",\")\n",
    "    #print([num for num in reader])\n",
    "    population_data = np.array([num for num in reader], dtype=np.int) \n",
    "\n",
    "#creating 2D numpy array\n",
    "#array_data = np.array([num for num in reader])\n",
    "#print(population_data)\n",
    "\n",
    "num_of_rows = len(population_data)\n",
    "num_of_cols = len(population_data[0])\n",
    "# print(num_of_rows)\n",
    "#print(num_of_cols)\n",
    "\n",
    "result_tuple = (num_of_rows, num_of_cols)\n",
    "print(result_tuple)    "
   ]
  },
  {
   "cell_type": "markdown",
   "metadata": {},
   "source": [
    "3. Print the total world population in 1960 (first year) and in 2019 (last year), with text explanation.\n",
    "<br>Then print the population growth (the difference) between 1960 and 2019, with text explanation.\n",
    "<br>To print a large number with commas, use:  `f'{largeNum:,}'`  where largeNum is the large value\n",
    "<br>\n",
    "<br>Example of output with large number and text explanation: 1960 population: 3,014,118,076"
   ]
  },
  {
   "cell_type": "code",
   "execution_count": 569,
   "metadata": {},
   "outputs": [
    {
     "name": "stdout",
     "output_type": "stream",
     "text": [
      "1960 population: 3,014,118,076\n",
      "2019 population: 7,641,703,304\n",
      "Population growth: 4,627,585,228\n"
     ]
    }
   ],
   "source": [
    "#first year\n",
    "first_col = population_data[0:,0:1].copy()   #starting on row 0, index col 0\n",
    "\n",
    "first_year_pop = np.sum(first_col)\n",
    "print(f\"1960 population: {first_year_pop:,}\")\n",
    "\n",
    "#last year (last col)\n",
    "last_year = population_data[0:,-1:].copy()   #starting on row 0, index last col\n",
    "#print(\"last year:\", last_col)\n",
    "\n",
    "#sum of pop of the last year (last_col)\n",
    "last_year_pop = np.sum(last_year)\n",
    "\n",
    "print(f\"2019 population: {last_year_pop:,}\")\n",
    "\n",
    "pop_growth = last_year_pop - first_year_pop\n",
    "print(f\"Population growth: {pop_growth:,}\")"
   ]
  },
  {
   "cell_type": "markdown",
   "metadata": {},
   "source": [
    "4. Use the following steps to determine in which quartile the 2019 United States population belongs. Then print whether it's in the 25, 50, 75, or higher percentile.\n",
    "- Find the population at 25th, 50th, 75th percentiles\n",
    "- Use if statements to see in which quartile the US population belongs"
   ]
  },
  {
   "cell_type": "code",
   "execution_count": 570,
   "metadata": {},
   "outputs": [
    {
     "name": "stdout",
     "output_type": "stream",
     "text": [
      "US population belongs in the fourth quartile\n"
     ]
    }
   ],
   "source": [
    "#print(country_names)\n",
    "\n",
    "#25th percentile\n",
    "first_quartile = np.percentile(last_year, 25)\n",
    "#print(f\"population at 25th percentile: {first_quartile:,}\")\n",
    "\n",
    "#50th percentile\n",
    "second_quartile = np.percentile(last_year, 50)\n",
    "#print(f\"population at 50th percentile: {second_quartile:,}\")\n",
    "\n",
    "#75th percentile\n",
    "third_quartile = np.percentile(last_year, 75)\n",
    "#print(f\"population at 75th percentile: {third_quartile:,}\")\n",
    "\n",
    "#higher percentile\n",
    "fourth_quartile = np.percentile(last_year, 100)\n",
    "#print(f\"population at 100th percentile: {fourth_quartile:,}\")\n",
    "\n",
    "us_index = np.where(country_names == \"United States\")\n",
    "\n",
    "#us_index = country_names.index(\"United States\")\n",
    "us_pop = last_year[us_index, 0]\n",
    "#print(us_pop)\n",
    "\n",
    "\n",
    "if us_pop < first_quartile:\n",
    "    print(f\"US population belongs in the first quartile\")\n",
    "\n",
    "if us_pop < second_quartile:\n",
    "    print(f\"US population belongs in the second quartile\")\n",
    "    \n",
    "if us_pop < third_quartile:\n",
    "    print(f\"US population belongs in the third quartile\")\n",
    "\n",
    "if us_pop < fourth_quartile:\n",
    "    print(f\"US population belongs in the fourth quartile\")\n"
   ]
  },
  {
   "cell_type": "markdown",
   "metadata": {},
   "source": [
    "5. Print the median population of the world for 2019. Then prove that it's the correct value by printing the number of countries with population below the median, and the number of countries with population above the median."
   ]
  },
  {
   "cell_type": "code",
   "execution_count": 571,
   "metadata": {},
   "outputs": [
    {
     "name": "stdout",
     "output_type": "stream",
     "text": [
      "Median population of the world for 2019: 6,777,452.0\n",
      "Number of countries with population below the median: 107\n",
      "Number of countries with population above the median: 107\n"
     ]
    }
   ],
   "source": [
    "median_pop = np.median(last_year)\n",
    "print(f\"Median population of the world for 2019: {median_pop:,}\")\n",
    "\n",
    "countries_below_median = last_year[last_year < median_pop]\n",
    "num_of_countries_below_median = len(countries_below_median)\n",
    "\n",
    "countries_above_median = last_year[last_year > median_pop]\n",
    "num_of_countries_above_median = len(countries_above_median)\n",
    "#print(num_of_countries_above_median)\n",
    "\n",
    "\n",
    "                                      \n",
    "print(f\"Number of countries with population below the median: {num_of_countries_below_median}\")\n",
    "print(f\"Number of countries with population above the median: {num_of_countries_above_median}\")"
   ]
  },
  {
   "cell_type": "markdown",
   "metadata": {},
   "source": [
    "6. Find the top 10 countries with the largest population in 2019. Print the country names and population, sorted by highest to lowest population, and formatted as 2 columns.\n",
    "<br>You can use a loop if it's only to print and format the output in 2 columns. The loop won't count toward the 1pt EC of no loops."
   ]
  },
  {
   "cell_type": "code",
   "execution_count": 572,
   "metadata": {},
   "outputs": [
    {
     "name": "stdout",
     "output_type": "stream",
     "text": [
      "China                1,397,715,000\n",
      "India                1,366,417,754\n",
      "United States        328,239,523\n",
      "Indonesia            270,625,568\n",
      "Pakistan             216,565,318\n",
      "Brazil               211,049,527\n",
      "Nigeria              200,963,599\n",
      "Bangladesh           163,046,161\n",
      "Russian Federation   144,373,535\n",
      "Mexico               127,575,529\n"
     ]
    }
   ],
   "source": [
    "sorted_pop = np.sort(last_year, axis=0)\n",
    "#print(sorted_pop)\n",
    "\n",
    "top_ten = sorted_pop[-10:]\n",
    "#print(top_ten)\n",
    "\n",
    "top_ten_pop = top_ten[::-1]\n",
    "#print(top_ten_pop)\n",
    "\n",
    "indexes = []\n",
    "for i in range(10):\n",
    "    res = np.where(last_year == top_ten_pop[i])[0]\n",
    "    indexes.append(res)\n",
    "#print(indexes)\n",
    "\n",
    "\n",
    "new_indexes = [36, 89, 201, 87, 149, 26, 141, 17, 163, 125]\n",
    "#print(new_indexes)\n",
    "\n",
    "top_ten_countries = []\n",
    "\n",
    "for index in new_indexes:\n",
    "    top_ten_countries.append(country_names[index])\n",
    "#print(top_ten_countries)\n",
    "\n",
    "#printing countries and populations in two cols\n",
    "for country, pop in zip(top_ten_countries, top_ten_pop):\n",
    "    print(f\"{country:20} {pop[0]:,}\")\n",
    "    "
   ]
  },
  {
   "cell_type": "markdown",
   "metadata": {},
   "source": [
    "7. A few countries do not have the population data for all years between 1960 and 2019. The missing data is indicated by a 0 in the population count.\n",
    "<br>Print the count of the rows (countries) that have missing data.\n",
    "<br>Print the index of the rows that have missing data."
   ]
  },
  {
   "cell_type": "code",
   "execution_count": 573,
   "metadata": {
    "scrolled": true
   },
   "outputs": [
    {
     "name": "stdout",
     "output_type": "stream",
     "text": [
      "count of the rows (countries) that have missing data: 4\n",
      "indexes of the rows: 58 106 174 182\n"
     ]
    }
   ],
   "source": [
    "# number of countries that have missing data\n",
    "counter = 0\n",
    "indexes = []\n",
    "for row in population_data:\n",
    "    if np.any([row == 0]):\n",
    "        counter += 1\n",
    "        \n",
    "print(f\"count of the rows (countries) that have missing data: {counter}\")\n",
    "\n",
    "for row in range(len(population_data)):\n",
    "    a = np.where(population_data[row] == 0) \n",
    "    \n",
    "amount_of_zeroes = np.count_nonzero(population_data == 0, axis=1)\n",
    "#print(amount_of_zeroes)\n",
    "\n",
    "new = np.sum(amount_of_zeroes == 0)\n",
    "\n",
    "#indexes of countries with missing population\n",
    "indexes_of_zeroes = np.nonzero(amount_of_zeroes)\n",
    "\n",
    "indexes_of_rows = indexes_of_zeroes[0]\n",
    "\n",
    "#unpacking indexes_of_rows\n",
    "print(\"indexes of the rows:\", *indexes_of_rows)\n",
    "\n",
    "\n",
    "#########################\n",
    "#alternative\n",
    "#for i in indexes_of_zeroes:\n",
    "    #print(*i)\n",
    "#([print(index) for index in indexes_of_zeroes])\n",
    "\n",
    "\n",
    "#alternative (iterative)...indexes of countries\n",
    "indexes2 = []\n",
    "for index in range(len(amount_of_zeroes)):\n",
    "    if amount_of_zeroes[index] != 0:\n",
    "        indexes2.append(index)\n",
    "#print(indexes2)\n",
    "        \n",
    "        \n",
    "#alternative to np.nonzero: indexes of countries with missing population using np.sum()\n",
    "alt_amount_of_zeroes = np.sum(population_data == 0, axis=1)\n",
    "# using nonzero like above: #indexes of countries with missing population\n",
    "alt_indexes_of_zeroes = np.nonzero(alt_amount_of_zeroes)\n"
   ]
  },
  {
   "cell_type": "markdown",
   "metadata": {},
   "source": [
    "8. Print the country with the smallest population difference between 1960 and 2019,\n",
    "<br>Then print the country with the largest population difference between 1960 and 2019.\n",
    "<br>The result should not show countries where the population count is 0 in 2019, resulting in a false smallest growth (a negative value), or where the population count is 0 in 1960, resulting in a false largest growth."
   ]
  },
  {
   "cell_type": "code",
   "execution_count": 575,
   "metadata": {},
   "outputs": [
    {
     "name": "stdout",
     "output_type": "stream",
     "text": [
      "Bulgaria, country with the smallest population difference between 1960 and 2019\n",
      "India, country with the largest population difference between 1960 and 2019\n"
     ]
    }
   ],
   "source": [
    "indexes_zeroes = np.where(first_col == 0)\n",
    "\n",
    "indexes_zeroes2 = np.where(last_year == 0)\n",
    "\n",
    "unpacking = indexes_zeroes[0]\n",
    "a, b = unpacking\n",
    "\n",
    "unpacking2 = indexes_zeroes2[0][0]\n",
    "\n",
    "deleting_indexes = [unpacking2] + [a] + [b]\n",
    "\n",
    "last_year_updated = np.delete(last_year, deleting_indexes)\n",
    "#print(len(delete))\n",
    "\n",
    "first_col_updated = np.delete(first_col, deleting_indexes)\n",
    "#print(len(delete2))\n",
    "\n",
    "getting_differences = last_year_updated - first_col_updated\n",
    "\n",
    "country_names_updated = np.delete(country_names, deleting_indexes)\n",
    "#print(len(aj))\n",
    "\n",
    "num_min = np.min(getting_differences)\n",
    "#print(num_min)\n",
    "\n",
    "num_max = np.max(getting_differences)\n",
    "#print(num_max)\n",
    "\n",
    "index_smallest = np.where(getting_differences == num_min)\n",
    "\n",
    "index_largest = np.where(getting_differences == num_max)\n",
    "\n",
    "find_smallest_diff_country = country_names_updated[index_smallest]\n",
    "\n",
    "find_largest_diff_country = country_names_updated[index_largest]\n",
    "\n",
    "print(f\"{find_smallest_diff_country[0]}, country with the smallest population difference between 1960 and 2019\")\n",
    "\n",
    "print(f\"{find_largest_diff_country[0]}, country with the largest population difference between 1960 and 2019\")\n",
    "\n",
    "\n",
    "\n",
    "\n",
    "#everything below this line is an alternative solution. Alternative, though not ideal.\n",
    "\n",
    "#finding smallest population difference\n",
    "#remove 1960 and 2019 with 0 in data\n",
    "\n",
    "differences = []\n",
    "\n",
    "for x, y in zip(first_col, last_year):\n",
    "    if x == 0 or y == 0:\n",
    "        continue        #because of \"continue\", the nums that are == 0 are not being added to the list, thus the list contains less elements than the # of iterations (the length of first_col and last_year).\n",
    "    result = y - x         # that means, that the order of the name of the countries corresponding to the indexes has changed. However, that change happens after the smallest pop diff, so we can only use this loop for figuring out the smallest pop diff\n",
    "    differences.append(result)\n",
    "\n",
    "smallest = np.min(differences)\n",
    "get_index = np.where(differences == smallest)\n",
    "country_index = get_index[0]\n",
    "country_smallest_diff = country_names[country_index[0]]\n",
    "#print(f\"{country_smallest_diff}, country with the smallest population difference between 1960 and 2019\")\n",
    "\n",
    "\n",
    "##########################\n",
    "\n",
    "#finding largest poulation difference\n",
    "# simply subtract the arrays 2019 - 1960\n",
    "\n",
    "subtracting_arrays = last_year - first_col\n",
    "diff_largest_pop = np.max(subtracting_arrays)\n",
    "get_country = np.where(subtracting_arrays == diff_largest_pop)\n",
    "country_index = get_country[0]\n",
    "country_largest_diff = country_names[country_index[0]]\n",
    "#print(f\"{country_largest_diff}, country with the largest population difference between 1960 and 2019\")\n",
    "\n",
    "\n"
   ]
  },
  {
   "cell_type": "markdown",
   "metadata": {},
   "source": []
  },
  {
   "cell_type": "code",
   "execution_count": 358,
   "metadata": {},
   "outputs": [
    {
     "name": "stdout",
     "output_type": "stream",
     "text": [
      "India\n",
      "-891613\n",
      "Bulgaria\n"
     ]
    }
   ],
   "source": [
    "#finding largest poulation difference\n",
    "# simply subtract the arrays 2019 - 1960\n",
    "\n",
    "subtracting_arrays = last_year - first_col \n",
    "diff_largest_pop = np.max(subtracting_arrays)\n",
    "get_country = np.where(subtracting_arrays == diff_largest_pop)\n",
    "country_index = get_country[0]\n",
    "country_largest_diff = country_names[country_index]\n",
    "print(*country_largest_diff)\n",
    "\n",
    "##########################\n",
    "\n",
    "#finding smallest population difference\n",
    "#remove 1960 and 2019 with 0 in data\n",
    "\n",
    "differences = []\n",
    "\n",
    "for x, y in zip(first_col, last_year):\n",
    "    if x == 0 or y == 0:\n",
    "        continue      #set x or y to 1 (or any number), so that they are not 0. That way, I don't need to \n",
    "    result = y - x          #\"continue\" if x or y are == 0, because if I do \"continue\", it will reduce the size of the list because continue will not append the numbers at that given index, and thus, it would change the position of the indexes\n",
    "    differences.append(result)\n",
    "\n",
    "smallest = np.min(differences)\n",
    "get_index = np.where(differences == smallest)\n",
    "country_index = get_index[0]\n",
    "country_smallest_diff = country_names[country_index[0]]\n",
    "print(country_smallest_diff)\n",
    "\n"
   ]
  },
  {
   "cell_type": "code",
   "execution_count": 404,
   "metadata": {},
   "outputs": [
    {
     "name": "stdout",
     "output_type": "stream",
     "text": [
      "(array([  0,   1,   2,   3,   4,   5,   6,   7,   8,   9,  10,  11,  12,\n",
      "        13,  14,  15,  16,  17,  18,  19,  20,  21,  22,  23,  24,  25,\n",
      "        26,  27,  28,  29,  30,  31,  32,  33,  34,  35,  36,  37,  38,\n",
      "        39,  40,  41,  42,  43,  44,  45,  46,  47,  48,  49,  50,  51,\n",
      "        52,  53,  54,  55,  56,  57,  58,  59,  60,  61,  62,  63,  64,\n",
      "        65,  66,  67,  68,  69,  70,  71,  72,  73,  74,  75,  76,  77,\n",
      "        78,  79,  80,  81,  82,  83,  84,  85,  86,  87,  88,  89,  90,\n",
      "        91,  92,  93,  94,  95,  96,  97,  98,  99, 100, 101, 102, 103,\n",
      "       104, 105, 106, 107, 108, 109, 110, 111, 112, 113, 114, 115, 116,\n",
      "       117, 118, 119, 120, 121, 122, 123, 124, 125, 126, 127, 128, 129,\n",
      "       130, 131, 132, 133, 134, 135, 136, 137, 138, 139, 140, 141, 142,\n",
      "       143, 144, 145, 146, 147, 148, 149, 150, 151, 152, 153, 154, 155,\n",
      "       156, 157, 158, 159, 160, 161, 162, 163, 164, 165, 166, 167, 168,\n",
      "       169, 170, 171, 172, 173, 175, 176, 177, 178, 179, 180, 181, 183,\n",
      "       184, 185, 186, 187, 188, 189, 190, 191, 192, 193, 194, 195, 196,\n",
      "       197, 198, 199, 200, 201, 202, 203, 204, 205, 206, 207, 208, 209,\n",
      "       210, 211, 212, 213, 214]), array([0, 0, 0, 0, 0, 0, 0, 0, 0, 0, 0, 0, 0, 0, 0, 0, 0, 0, 0, 0, 0, 0,\n",
      "       0, 0, 0, 0, 0, 0, 0, 0, 0, 0, 0, 0, 0, 0, 0, 0, 0, 0, 0, 0, 0, 0,\n",
      "       0, 0, 0, 0, 0, 0, 0, 0, 0, 0, 0, 0, 0, 0, 0, 0, 0, 0, 0, 0, 0, 0,\n",
      "       0, 0, 0, 0, 0, 0, 0, 0, 0, 0, 0, 0, 0, 0, 0, 0, 0, 0, 0, 0, 0, 0,\n",
      "       0, 0, 0, 0, 0, 0, 0, 0, 0, 0, 0, 0, 0, 0, 0, 0, 0, 0, 0, 0, 0, 0,\n",
      "       0, 0, 0, 0, 0, 0, 0, 0, 0, 0, 0, 0, 0, 0, 0, 0, 0, 0, 0, 0, 0, 0,\n",
      "       0, 0, 0, 0, 0, 0, 0, 0, 0, 0, 0, 0, 0, 0, 0, 0, 0, 0, 0, 0, 0, 0,\n",
      "       0, 0, 0, 0, 0, 0, 0, 0, 0, 0, 0, 0, 0, 0, 0, 0, 0, 0, 0, 0, 0, 0,\n",
      "       0, 0, 0, 0, 0, 0, 0, 0, 0, 0, 0, 0, 0, 0, 0, 0, 0, 0, 0, 0, 0, 0,\n",
      "       0, 0, 0, 0, 0, 0, 0, 0, 0, 0, 0, 0, 0, 0, 0]))\n",
      "215\n",
      "214\n",
      "213\n",
      "(array([88]), array([0]))\n"
     ]
    }
   ],
   "source": [
    "#print(first_col)\n",
    "#print(last_year)\n",
    "\n",
    "#print(first_col[1])\n",
    "\n",
    "k = np.where(first_col != 0)\n",
    "print(k)\n",
    "\n",
    "# k\n",
    "\n",
    "#print(kkk)\n",
    "\n",
    "kk = k[0][0]\n",
    "#print(kk)\n",
    "\n",
    "#kkk = kk[0]\n",
    "#print(kkk)\n",
    "\n",
    "#country_names.remove[174]\n",
    "#print(len(country_names))\n",
    "\n",
    "d = last_year != 0\n",
    "print(len(d))\n",
    "\n",
    "masking = last_year[d]\n",
    "print(len(masking))\n",
    "\n",
    "first_ = first_col != 0\n",
    "masking2 = first_col[first_]\n",
    "print(len(masking2))\n",
    "\n",
    "#country_names.delente[]\n",
    "\n",
    "# for x in last_year:\n",
    "#     print(x)\n",
    "\n",
    "a = np.argwhere(first_col)\n",
    "y = np.argwhere(last_year)\n",
    "#print(a)\n",
    "\n",
    "subtracting_arrays = last_year - first_col \n",
    "#print(b)\n",
    "\n",
    "differences = []\n",
    "\n",
    "for x, y in zip(first_col, last_year):\n",
    "    if x == 0 or y == 0:\n",
    "        continue      #set x or y to 1 (or any number), so that they are not 0. That way, I don't need to \n",
    "    result = y - x          #\"continue\" if x or y are == 0, because if I do \"continue\", it will reduce the size of the list because continue will not append the numbers at that given index, and thus, it would change the position of the indexes\n",
    "    differences.append(result)\n",
    "\n",
    "#maxxx = max(differences)\n",
    "#print(maxxx)\n",
    "#minn = min(differences)\n",
    "#print(minn)\n",
    "    \n",
    "#print(differences)\n",
    "#maxxx_num = np.max(differences)\n",
    "#print(max_num)\n",
    "\n",
    "minnn_num = np.min(differences)\n",
    "#print(minnn_num)\n",
    "#print(largest_pop)\n",
    "#print(smallest_pop)\n",
    "maxaaa = np.max(differences)\n",
    "\n",
    "index_largest_pop = np.where(differences == maxaaa)\n",
    "print(index_largest_pop)\n",
    "#index1 = index_largest_pop\n",
    "\n",
    "index_smallest_pop = np.where(differences == minnn_num)\n",
    "#print(index_smallest_pop)\n",
    "#z = country_name\n",
    "sb, cb = index_smallest_pop\n",
    "#print(sb)\n",
    "\n",
    "#a = country_names[88]\n",
    "#print(a)\n",
    "\n",
    "\n",
    "name_country_largest_pop = country_names[index_largest_pop[0]]\n",
    "#print(*name_country_largest_pop)\n",
    "\n",
    "name_country_smallest_pop = country_names[index_smallest_pop[0]]\n",
    "#print(*name_country_smallest_pop)"
   ]
  },
  {
   "cell_type": "code",
   "execution_count": 402,
   "metadata": {},
   "outputs": [
    {
     "name": "stdout",
     "output_type": "stream",
     "text": [
      "215\n",
      "215\n"
     ]
    },
    {
     "ename": "ValueError",
     "evalue": "operands could not be broadcast together with shapes (214,) (213,) ",
     "output_type": "error",
     "traceback": [
      "\u001b[0;31m---------------------------------------------------------------------------\u001b[0m",
      "\u001b[0;31mValueError\u001b[0m                                Traceback (most recent call last)",
      "\u001b[0;32m<ipython-input-402-eb0b5e7666ee>\u001b[0m in \u001b[0;36m<module>\u001b[0;34m\u001b[0m\n\u001b[1;32m      7\u001b[0m \u001b[0;31m#print(d)\u001b[0m\u001b[0;34m\u001b[0m\u001b[0;34m\u001b[0m\u001b[0;34m\u001b[0m\u001b[0m\n\u001b[1;32m      8\u001b[0m \u001b[0;34m\u001b[0m\u001b[0m\n\u001b[0;32m----> 9\u001b[0;31m \u001b[0mmasking\u001b[0m \u001b[0;34m=\u001b[0m \u001b[0mlast_year\u001b[0m\u001b[0;34m[\u001b[0m\u001b[0md\u001b[0m\u001b[0;34m]\u001b[0m \u001b[0;34m&\u001b[0m \u001b[0mmasking2\u001b[0m\u001b[0;34m\u001b[0m\u001b[0;34m\u001b[0m\u001b[0m\n\u001b[0m\u001b[1;32m     10\u001b[0m \u001b[0mprint\u001b[0m\u001b[0;34m(\u001b[0m\u001b[0mlen\u001b[0m\u001b[0;34m(\u001b[0m\u001b[0mmasking\u001b[0m\u001b[0;34m)\u001b[0m\u001b[0;34m)\u001b[0m\u001b[0;34m\u001b[0m\u001b[0;34m\u001b[0m\u001b[0m\n\u001b[1;32m     11\u001b[0m \u001b[0;34m\u001b[0m\u001b[0m\n",
      "\u001b[0;31mValueError\u001b[0m: operands could not be broadcast together with shapes (214,) (213,) "
     ]
    }
   ],
   "source": [
    "first_ = first_col != 0\n",
    "print(len(first_))\n",
    "masking2 = first_col[first_]\n",
    "\n",
    "d = last_year != 0\n",
    "print(len(d))\n",
    "#print(d)\n",
    "\n",
    "masking = last_year[d] & masking2\n",
    "print(len(masking))\n",
    "\n",
    "first_ = first_col != 0\n",
    "masking2 = first_col[first_]\n",
    "print(len(masking2))\n",
    "\n",
    "#a = masking2 - masking"
   ]
  },
  {
   "cell_type": "markdown",
   "metadata": {},
   "source": []
  },
  {
   "cell_type": "code",
   "execution_count": 411,
   "metadata": {},
   "outputs": [
    {
     "name": "stdout",
     "output_type": "stream",
     "text": [
      "213\n",
      "214\n"
     ]
    },
    {
     "ename": "TypeError",
     "evalue": "unsupported operand type(s) for |: 'list' and 'list'",
     "output_type": "error",
     "traceback": [
      "\u001b[0;31m---------------------------------------------------------------------------\u001b[0m",
      "\u001b[0;31mTypeError\u001b[0m                                 Traceback (most recent call last)",
      "\u001b[0;32m<ipython-input-411-b60c9f21a886>\u001b[0m in \u001b[0;36m<module>\u001b[0;34m\u001b[0m\n\u001b[1;32m      5\u001b[0m \u001b[0mprint\u001b[0m\u001b[0;34m(\u001b[0m\u001b[0mlen\u001b[0m\u001b[0;34m(\u001b[0m\u001b[0my\u001b[0m\u001b[0;34m)\u001b[0m\u001b[0;34m)\u001b[0m\u001b[0;34m\u001b[0m\u001b[0;34m\u001b[0m\u001b[0m\n\u001b[1;32m      6\u001b[0m \u001b[0;34m\u001b[0m\u001b[0m\n\u001b[0;32m----> 7\u001b[0;31m \u001b[0mx\u001b[0m \u001b[0;34m=\u001b[0m \u001b[0mfirst_col\u001b[0m\u001b[0;34m[\u001b[0m\u001b[0;34m[\u001b[0m\u001b[0ma\u001b[0m\u001b[0;34m]\u001b[0m\u001b[0;34m|\u001b[0m \u001b[0;34m[\u001b[0m\u001b[0my\u001b[0m\u001b[0;34m]\u001b[0m\u001b[0;34m]\u001b[0m\u001b[0;34m\u001b[0m\u001b[0;34m\u001b[0m\u001b[0m\n\u001b[0m\u001b[1;32m      8\u001b[0m \u001b[0mprint\u001b[0m\u001b[0;34m(\u001b[0m\u001b[0mx\u001b[0m\u001b[0;34m)\u001b[0m\u001b[0;34m\u001b[0m\u001b[0;34m\u001b[0m\u001b[0m\n",
      "\u001b[0;31mTypeError\u001b[0m: unsupported operand type(s) for |: 'list' and 'list'"
     ]
    }
   ],
   "source": [
    "a = np.argwhere(first_col)\n",
    "y = np.argwhere(last_year)\n",
    "\n",
    "print(len(a))\n",
    "print(len(y))\n",
    "\n",
    "x = first_col[a | [y]]\n",
    "print(x)"
   ]
  },
  {
   "cell_type": "code",
   "execution_count": 523,
   "metadata": {},
   "outputs": [
    {
     "name": "stdout",
     "output_type": "stream",
     "text": [
      "(array([174, 182]), array([0, 0]))\n",
      "(array([58]), array([0]))\n",
      "[58, 174, 182]\n"
     ]
    }
   ],
   "source": [
    "j = np.where(first_col == 0)\n",
    "#print(j)\n",
    "\n",
    "g = np.where(last_year == 0)\n",
    "#print(g)\n",
    "\n",
    "unpacking = j[0]\n",
    "a, b = unpacking\n",
    "\n",
    "unpacking2 = g[0][0]\n",
    "\n",
    "\n",
    "deleting_indexes = [unpacking2] + [a] + [b]\n",
    "\n",
    "print(deleting_indexes)\n",
    "\n",
    "last_year_updated = np.delete(last_year, deleting_indexes)\n",
    "#print(len(delete))\n",
    "\n",
    "first_col_updated = np.delete(first_col, deleting_indexes)\n",
    "#print(len(delete2))\n",
    "\n",
    "getting_differences = last_year_updated - first_col_updated\n",
    "\n",
    "country_names_updated = np.delete(country_names, deleting_indexes)\n",
    "#print(len(aj))\n",
    "\n",
    "num_min = np.min(getting_differences)\n",
    "#print(num_min)\n",
    "\n",
    "num_max = np.max(getting_differences)\n",
    "#print(num_max)\n",
    "\n",
    "index_smallest = np.where(getting_differences == num_min)\n",
    "\n",
    "index_largest = np.where(getting_differences == num_max)\n",
    "\n",
    "find_smallest_pop_country = country_names_updated[index_smallest]\n",
    "\n",
    "find_largest_pop_country = country_names_updated[index_largest]\n"
   ]
  },
  {
   "cell_type": "code",
   "execution_count": 539,
   "metadata": {},
   "outputs": [
    {
     "name": "stdout",
     "output_type": "stream",
     "text": [
      "Bulgaria, country with the smallest population difference between 1960 and 2019\n",
      "India, country with the largest population difference between 1960 and 2019\n"
     ]
    }
   ],
   "source": [
    "indexes_zeroes = np.where(first_col == 0)\n",
    "\n",
    "indexes_zeroes2 = np.where(last_year == 0)\n",
    "\n",
    "unpacking = indexes_zeroes[0]\n",
    "a, b = unpacking\n",
    "\n",
    "unpacking2 = indexes_zeroes2[0][0]\n",
    "\n",
    "deleting_indexes = [unpacking2] + [a] + [b]\n",
    "\n",
    "last_year_updated = np.delete(last_year, deleting_indexes)\n",
    "#print(len(delete))\n",
    "\n",
    "first_col_updated = np.delete(first_col, deleting_indexes)\n",
    "#print(len(delete2))\n",
    "\n",
    "getting_differences = last_year_updated - first_col_updated\n",
    "\n",
    "country_names_updated = np.delete(country_names, deleting_indexes)\n",
    "#print(len(aj))\n",
    "\n",
    "num_min = np.min(getting_differences)\n",
    "#print(num_min)\n",
    "\n",
    "num_max = np.max(getting_differences)\n",
    "#print(num_max)\n",
    "\n",
    "index_smallest = np.where(getting_differences == num_min)\n",
    "\n",
    "index_largest = np.where(getting_differences == num_max)\n",
    "\n",
    "find_smallest_diff_country = country_names_updated[index_smallest]\n",
    "\n",
    "find_largest_diff_country = country_names_updated[index_largest]\n",
    "\n",
    "print(f\"{find_smallest_diff_country[0]}, country with the smallest population difference between 1960 and 2019\")\n",
    "\n",
    "print(f\"{find_largest_diff_country[0]}, country with the largest population difference between 1960 and 2019\")"
   ]
  },
  {
   "cell_type": "code",
   "execution_count": null,
   "metadata": {},
   "outputs": [],
   "source": []
  }
 ],
 "metadata": {
  "kernelspec": {
   "display_name": "Python 3",
   "language": "python",
   "name": "python3"
  },
  "language_info": {
   "codemirror_mode": {
    "name": "ipython",
    "version": 3
   },
   "file_extension": ".py",
   "mimetype": "text/x-python",
   "name": "python",
   "nbconvert_exporter": "python",
   "pygments_lexer": "ipython3",
   "version": "3.8.5"
  }
 },
 "nbformat": 4,
 "nbformat_minor": 4
}
